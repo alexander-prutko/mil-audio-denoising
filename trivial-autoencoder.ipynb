{
 "cells": [
  {
   "cell_type": "markdown",
   "metadata": {
    "toc": true
   },
   "source": [
    "<h1>Содержание<span class=\"tocSkip\"></span></h1>\n",
    "<div class=\"toc\"><ul class=\"toc-item\"></ul></div>"
   ]
  },
  {
   "cell_type": "code",
   "execution_count": null,
   "metadata": {
    "ExecuteTime": {
     "end_time": "2021-02-14T13:18:10.143439Z",
     "start_time": "2021-02-14T13:18:09.650197Z"
    }
   },
   "outputs": [],
   "source": [
    "import torch\n",
    "from torch import nn\n",
    "from torch.utils.data.dataset import random_split\n",
    "from torchaudio import datasets\n",
    "\n",
    "from trivial.train import fit, get_model\n",
    "from utils.data import get_data, WrappedDataLoader, preprocess"
   ]
  },
  {
   "cell_type": "code",
   "execution_count": null,
   "metadata": {
    "ExecuteTime": {
     "end_time": "2021-02-14T13:18:13.124500Z",
     "start_time": "2021-02-14T13:18:11.289290Z"
    }
   },
   "outputs": [],
   "source": [
    "dev = torch.device(\n",
    "    \"cuda\") if torch.cuda.is_available() else torch.device(\"cpu\")\n",
    "\n",
    "dataset = datasets.VCTK_092(root=\"data\", download=False)\n",
    "\n",
    "ds_size = len(dataset)\n",
    "train_i = int(0.001 * ds_size)\n",
    "val_i = int(0.002 * ds_size) - train_i\n",
    "test_i = ds_size - train_i - val_i\n",
    "\n",
    "train_ds, val_ds, test_ds = random_split(dataset, lengths=[train_i, val_i, test_i],\n",
    "                                         generator=torch.Generator().manual_seed(42))\n",
    "\n",
    "SAMPLE_RATE = 48000\n",
    "N_FFT = SAMPLE_RATE * 64 // 1000 + 4\n",
    "HOP_LENGTH = SAMPLE_RATE * 16 // 1000 + 4\n",
    "zero_q = 0.9\n",
    "zero_f = 0.2\n",
    "one_q = 0.9\n",
    "one_f = 0.5\n",
    "bs = 8\n",
    "\n",
    "train_dl, val_dl, test_dl = get_data(train_ds, val_ds, test_ds, bs)\n",
    "train_dl = WrappedDataLoader(train_dl, preprocess, HOP_LENGTH, dev, zero_q=zero_q, zero_f=zero_f, one_q=one_q,\n",
    "                             one_f=one_f)\n",
    "val_dl = WrappedDataLoader(val_dl, preprocess, HOP_LENGTH, dev, zero_q=zero_q, zero_f=zero_f, one_q=one_q, one_f=one_f)\n",
    "test_dl = WrappedDataLoader(test_dl, preprocess, HOP_LENGTH, dev, zero_q=zero_q, zero_f=zero_f, one_q=one_q,\n",
    "                            one_f=one_f)\n",
    "\n",
    "loss_func = nn.MSELoss()\n",
    "\n",
    "model, opt = get_model(dev)"
   ]
  },
  {
   "cell_type": "code",
   "execution_count": null,
   "metadata": {
    "ExecuteTime": {
     "end_time": "2021-02-14T13:18:39.485858Z",
     "start_time": "2021-02-14T13:18:13.734764Z"
    }
   },
   "outputs": [],
   "source": [
    "fit(10, model, loss_func, opt, train_dl, val_dl)"
   ]
  }
 ],
 "metadata": {
  "hide_input": false,
  "kernelspec": {
   "display_name": "mil",
   "language": "python",
   "name": "mil"
  },
  "language_info": {
   "codemirror_mode": {
    "name": "ipython",
    "version": 3
   },
   "file_extension": ".py",
   "mimetype": "text/x-python",
   "name": "python",
   "nbconvert_exporter": "python",
   "pygments_lexer": "ipython3",
   "version": "3.6.12"
  },
  "toc": {
   "base_numbering": 1,
   "nav_menu": {
    "height": "124px",
    "width": "200px"
   },
   "number_sections": true,
   "sideBar": true,
   "skip_h1_title": false,
   "title_cell": "Содержание",
   "title_sidebar": "Содержание",
   "toc_cell": true,
   "toc_position": {},
   "toc_section_display": true,
   "toc_window_display": true
  },
  "varInspector": {
   "cols": {
    "lenName": 16,
    "lenType": 16,
    "lenVar": 40
   },
   "kernels_config": {
    "python": {
     "delete_cmd_postfix": "",
     "delete_cmd_prefix": "del ",
     "library": "var_list.py",
     "varRefreshCmd": "print(var_dic_list())"
    },
    "r": {
     "delete_cmd_postfix": ") ",
     "delete_cmd_prefix": "rm(",
     "library": "var_list.r",
     "varRefreshCmd": "cat(var_dic_list()) "
    }
   },
   "types_to_exclude": [
    "module",
    "function",
    "builtin_function_or_method",
    "instance",
    "_Feature"
   ],
   "window_display": false
  }
 },
 "nbformat": 4,
 "nbformat_minor": 4
}
