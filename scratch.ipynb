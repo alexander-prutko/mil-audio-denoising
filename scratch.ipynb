{
 "cells": [
  {
   "cell_type": "markdown",
   "metadata": {
    "toc": true
   },
   "source": [
    "<h1>Table of Contents<span class=\"tocSkip\"></span></h1>\n",
    "<div class=\"toc\"><ul class=\"toc-item\"></ul></div>"
   ]
  },
  {
   "cell_type": "code",
   "execution_count": 98,
   "metadata": {
    "ExecuteTime": {
     "end_time": "2021-02-11T10:42:04.420718Z",
     "start_time": "2021-02-11T10:42:02.171332Z"
    }
   },
   "outputs": [
    {
     "name": "stdout",
     "output_type": "stream",
     "text": [
      "Populating the interactive namespace from numpy and matplotlib\n"
     ]
    }
   ],
   "source": [
    "import torch.nn.functional as F\n",
    "import util\n",
    "import layers\n",
    "import os\n",
    "import logging\n",
    "import numpy as np\n",
    "import pandas as pd\n",
    "import pickle\n",
    "import torch\n",
    "from torch.utils.data import Dataset, DataLoader\n",
    "import torch.nn as nn\n",
    "import torch.optim as optim\n",
    "from tqdm import tqdm as tqdm\n",
    "\n",
    "import torchaudio\n",
    "\n",
    "%pylab inline"
   ]
  },
  {
   "cell_type": "code",
   "execution_count": 192,
   "metadata": {
    "ExecuteTime": {
     "end_time": "2021-02-11T11:10:58.442856Z",
     "start_time": "2021-02-11T11:10:58.436482Z"
    }
   },
   "outputs": [],
   "source": [
    "import IPython.display as ipd\n",
    "import numpy as np"
   ]
  },
  {
   "cell_type": "code",
   "execution_count": 4,
   "metadata": {
    "ExecuteTime": {
     "end_time": "2021-02-11T07:52:52.322982Z",
     "start_time": "2021-02-11T07:52:49.910894Z"
    },
    "collapsed": true
   },
   "outputs": [
    {
     "name": "stdout",
     "output_type": "stream",
     "text": [
      "----------------------------------------------------------------\n",
      "        Layer (type)               Output Shape         Param #\n",
      "================================================================\n",
      "            Conv2d-1         [-1, 64, 224, 224]           1,792\n",
      "              ReLU-2         [-1, 64, 224, 224]               0\n",
      "            Conv2d-3         [-1, 64, 224, 224]          36,928\n",
      "              ReLU-4         [-1, 64, 224, 224]               0\n",
      "         MaxPool2d-5         [-1, 64, 112, 112]               0\n",
      "            Conv2d-6        [-1, 128, 112, 112]          73,856\n",
      "              ReLU-7        [-1, 128, 112, 112]               0\n",
      "            Conv2d-8        [-1, 128, 112, 112]         147,584\n",
      "              ReLU-9        [-1, 128, 112, 112]               0\n",
      "        MaxPool2d-10          [-1, 128, 56, 56]               0\n",
      "           Conv2d-11          [-1, 256, 56, 56]         295,168\n",
      "             ReLU-12          [-1, 256, 56, 56]               0\n",
      "           Conv2d-13          [-1, 256, 56, 56]         590,080\n",
      "             ReLU-14          [-1, 256, 56, 56]               0\n",
      "           Conv2d-15          [-1, 256, 56, 56]         590,080\n",
      "             ReLU-16          [-1, 256, 56, 56]               0\n",
      "        MaxPool2d-17          [-1, 256, 28, 28]               0\n",
      "           Conv2d-18          [-1, 512, 28, 28]       1,180,160\n",
      "             ReLU-19          [-1, 512, 28, 28]               0\n",
      "           Conv2d-20          [-1, 512, 28, 28]       2,359,808\n",
      "             ReLU-21          [-1, 512, 28, 28]               0\n",
      "           Conv2d-22          [-1, 512, 28, 28]       2,359,808\n",
      "             ReLU-23          [-1, 512, 28, 28]               0\n",
      "        MaxPool2d-24          [-1, 512, 14, 14]               0\n",
      "           Conv2d-25          [-1, 512, 14, 14]       2,359,808\n",
      "             ReLU-26          [-1, 512, 14, 14]               0\n",
      "           Conv2d-27          [-1, 512, 14, 14]       2,359,808\n",
      "             ReLU-28          [-1, 512, 14, 14]               0\n",
      "           Conv2d-29          [-1, 512, 14, 14]       2,359,808\n",
      "             ReLU-30          [-1, 512, 14, 14]               0\n",
      "        MaxPool2d-31            [-1, 512, 7, 7]               0\n",
      "AdaptiveAvgPool2d-32            [-1, 512, 7, 7]               0\n",
      "           Linear-33                 [-1, 4096]     102,764,544\n",
      "             ReLU-34                 [-1, 4096]               0\n",
      "          Dropout-35                 [-1, 4096]               0\n",
      "           Linear-36                 [-1, 4096]      16,781,312\n",
      "             ReLU-37                 [-1, 4096]               0\n",
      "          Dropout-38                 [-1, 4096]               0\n",
      "           Linear-39                 [-1, 1000]       4,097,000\n",
      "================================================================\n",
      "Total params: 138,357,544\n",
      "Trainable params: 138,357,544\n",
      "Non-trainable params: 0\n",
      "----------------------------------------------------------------\n",
      "Input size (MB): 0.57\n",
      "Forward/backward pass size (MB): 218.78\n",
      "Params size (MB): 527.79\n",
      "Estimated Total Size (MB): 747.15\n",
      "----------------------------------------------------------------\n"
     ]
    }
   ],
   "source": [
    "from torchvision import models\n",
    "from torchsummary import summary\n",
    "\n",
    "vgg = models.vgg16()\n",
    "summary(vgg, (3, 224, 224))"
   ]
  },
  {
   "cell_type": "code",
   "execution_count": 8,
   "metadata": {
    "ExecuteTime": {
     "end_time": "2021-02-11T08:08:33.431261Z",
     "start_time": "2021-02-11T08:08:33.424400Z"
    },
    "code_folding": [
     0
    ]
   },
   "outputs": [],
   "source": [
    "config = {\n",
    "    \"dataset\": {\n",
    "        \"extract_voice\": True,\n",
    "        \"in_memory_percentage\": 1,\n",
    "        \"noise_only_percent\": 0.1,\n",
    "        \"num_condition_classes\": 29,\n",
    "        \"path\": \"data/NSDTSEA/\",\n",
    "        \"regain\": 0.06,\n",
    "        \"sample_rate\": 16000,\n",
    "        \"type\": \"nsdtsea\"\n",
    "    },\n",
    "    \"model\": {\n",
    "        \"condition_encoding\": \"binary\",\n",
    "        \"dilations\": 9,\n",
    "        \"filters\": {\n",
    "            \"lengths\": {\n",
    "                \"res\": 3,\n",
    "                \"final\": [3, 3],\n",
    "                \"skip\": 1\n",
    "            },\n",
    "            \"depths\": {\n",
    "                \"res\": 128,\n",
    "                \"skip\": 128,\n",
    "                \"final\": [2048, 256]\n",
    "            }\n",
    "        },\n",
    "        \"num_stacks\": 3,\n",
    "        \"target_field_length\": 1601,\n",
    "        \"target_padding\": 1\n",
    "    },\n",
    "    \"optimizer\": {\n",
    "        \"decay\": 0.0,\n",
    "        \"epsilon\": 1e-08,\n",
    "        \"lr\": 0.001,\n",
    "        \"momentum\": 0.9,\n",
    "        \"type\": \"adam\"\n",
    "    },\n",
    "    \"training\": {\n",
    "        \"batch_size\": 10,\n",
    "        \"early_stopping_patience\": 16,\n",
    "        \"loss\": {\n",
    "            \"out_1\": {\n",
    "                \"l1\": 1,\n",
    "                \"l2\": 0,\n",
    "                \"weight\": 1\n",
    "            },\n",
    "            \"out_2\": {\n",
    "                \"l1\": 1,\n",
    "                \"l2\": 0,\n",
    "                \"weight\": 1\n",
    "            }\n",
    "        },\n",
    "        \"num_epochs\": 250,\n",
    "        \"num_test_samples\": 100,\n",
    "        \"num_train_samples\": 1000,\n",
    "        \"path\": \"data/NSDTSEA/\"\n",
    "    }\n",
    "}"
   ]
  },
  {
   "cell_type": "code",
   "execution_count": 61,
   "metadata": {
    "ExecuteTime": {
     "end_time": "2021-02-11T08:44:02.832865Z",
     "start_time": "2021-02-11T08:44:02.819724Z"
    },
    "code_folding": []
   },
   "outputs": [],
   "source": [
    "class dilated_residual_block(nn.Module):\n",
    "    \n",
    "    def __init__(self, dilation, input_length, padded_target_field_length, config):\n",
    "        super().__init__()\n",
    "        self.dilation =  dilation\n",
    "        self.input_length = input_length\n",
    "#         self.condition_input_length = condition_input_length\n",
    "#         self.samples_of_interest_indices = samples_of_interest_indices\n",
    "        self.padded_target_field_length = padded_target_field_length\n",
    "        self.config = config\n",
    "        self.conv1 = nn.Conv1d(self.config['model']['filters']['depths']['res'], 2*self.config['model']['filters']['depths']['res'],\n",
    "                               kernel_size = self.config['model']['filters']['lengths']['res'], stride=1, bias = False, dilation = self.dilation,\n",
    "                               padding=int(self.dilation))\n",
    "        self.conv2 = nn.Conv1d(self.config['model']['filters']['depths']['res'], \n",
    "                               self.config['model']['filters']['depths']['res'] + self.config['model']['filters']['depths']['skip'],\n",
    "                               1, stride=1, bias = False, padding=0)\n",
    "        \n",
    "    \n",
    "    def forward(self, data_x):\n",
    "\n",
    "        original_x = data_x\n",
    "\n",
    "        # Data sub-block\n",
    "        data_out = self.conv1(data_x)\n",
    "\n",
    "        data_out_1 = layers.slicing(data_out, slice(0, self.config['model']['filters']['depths']['res'],1), 1) \n",
    "\n",
    "        data_out_2 = layers.slicing(data_out, slice(self.config['model']['filters']['depths']['res'], \n",
    "                                                    2*self.config['model']['filters']['depths']['res'],1), 1)\n",
    "\n",
    "        data_out_1 = data_out_1\n",
    "        \n",
    "        data_out_2 = data_out_2\n",
    "\n",
    "        tanh_out = torch.tanh(data_out_1)\n",
    "        sigm_out = torch.sigmoid(data_out_2)\n",
    "\n",
    "        data_x = tanh_out*sigm_out\n",
    "\n",
    "        data_x = self.conv2(data_x)\n",
    "\n",
    "        res_x = layers.slicing(data_x, slice(0, self.config['model']['filters']['depths']['res'],1), 1)\n",
    "        \n",
    "        skip_x = layers.slicing(data_x, slice(self.config['model']['filters']['depths']['res'], \n",
    "                                self.config['model']['filters']['depths']['res']+self.config['model']['filters']['depths']['skip'],1), 1)\n",
    "\n",
    "        res_x = res_x + original_x\n",
    "\n",
    "        return res_x, skip_x"
   ]
  },
  {
   "cell_type": "code",
   "execution_count": 27,
   "metadata": {
    "ExecuteTime": {
     "end_time": "2021-02-11T08:15:13.096210Z",
     "start_time": "2021-02-11T08:15:13.092846Z"
    }
   },
   "outputs": [],
   "source": [
    "drb = dilated_residual_block(9, 100, 100, config)"
   ]
  },
  {
   "cell_type": "code",
   "execution_count": 31,
   "metadata": {
    "ExecuteTime": {
     "end_time": "2021-02-11T08:15:34.983936Z",
     "start_time": "2021-02-11T08:15:34.978929Z"
    }
   },
   "outputs": [
    {
     "name": "stdout",
     "output_type": "stream",
     "text": [
      "----------------------------------------------------------------\n",
      "        Layer (type)               Output Shape         Param #\n",
      "================================================================\n",
      "            Conv1d-1               [-1, 256, 3]          98,304\n",
      "            Conv1d-2               [-1, 256, 3]          32,768\n",
      "================================================================\n",
      "Total params: 131,072\n",
      "Trainable params: 131,072\n",
      "Non-trainable params: 0\n",
      "----------------------------------------------------------------\n",
      "Input size (MB): 0.00\n",
      "Forward/backward pass size (MB): 0.01\n",
      "Params size (MB): 0.50\n",
      "Estimated Total Size (MB): 0.51\n",
      "----------------------------------------------------------------\n"
     ]
    }
   ],
   "source": [
    "summary(drb, (128, 3))"
   ]
  },
  {
   "cell_type": "code",
   "execution_count": 32,
   "metadata": {
    "ExecuteTime": {
     "end_time": "2021-02-11T08:16:42.906275Z",
     "start_time": "2021-02-11T08:16:42.902798Z"
    }
   },
   "outputs": [
    {
     "data": {
      "text/plain": [
       "dilated_residual_block(\n",
       "  (conv1): Conv1d(128, 256, kernel_size=(3,), stride=(1,), padding=(9,), dilation=(9,), bias=False)\n",
       "  (conv2): Conv1d(128, 256, kernel_size=(1,), stride=(1,), bias=False)\n",
       ")"
      ]
     },
     "execution_count": 32,
     "metadata": {},
     "output_type": "execute_result"
    }
   ],
   "source": [
    "drb"
   ]
  },
  {
   "cell_type": "code",
   "execution_count": 119,
   "metadata": {
    "ExecuteTime": {
     "end_time": "2021-02-11T10:47:07.053056Z",
     "start_time": "2021-02-11T10:47:07.027987Z"
    }
   },
   "outputs": [],
   "source": [
    "class DenoisingWavenet(nn.Module):\n",
    "\n",
    "    def __init__(self, config, input_length=None, target_field_length=None):\n",
    "        super().__init__()\n",
    "\n",
    "        self.config = config\n",
    "        self.num_stacks = self.config['model']['num_stacks']\n",
    "        if type(self.config['model']['dilations']) is int:\n",
    "            self.dilations = [2 ** i for i in range(0, self.config['model']['dilations'] + 1)]\n",
    "        elif type(self.config['model']['dilations']) is list:\n",
    "            self.dilations = self.config['model']['dilations']\n",
    "\n",
    "        self.receptive_field_length = util.compute_receptive_field_length(config['model']['num_stacks'], self.dilations, config['model']['filters']['lengths']['res'], 1)\n",
    "\n",
    "        if input_length is not None:\n",
    "            self.input_length = int(input_length)\n",
    "            self.target_field_length = int(self.input_length - (self.receptive_field_length - 1))\n",
    "        if target_field_length is not None:\n",
    "            self.target_field_length = int(target_field_length)\n",
    "            self.input_length = int(self.receptive_field_length + (self.target_field_length - 1))\n",
    "        else:\n",
    "            self.target_field_length = int(config['model']['target_field_length'])\n",
    "            self.input_length = int(self.receptive_field_length + (self.target_field_length - 1))\n",
    "\n",
    "        self.target_padding = config['model']['target_padding']\n",
    "        self.padded_target_field_length = self.target_field_length + 2 * self.target_padding\n",
    "        self.half_target_field_length = int(self.target_field_length / 2)\n",
    "        self.half_receptive_field_length = int(self.receptive_field_length / 2)\n",
    "        self.num_residual_blocks = len(self.dilations) * self.num_stacks\n",
    "\n",
    "        self.config['model']['num_residual_blocks'] = self.num_residual_blocks\n",
    "        self.config['model']['receptive_field_length'] = self.receptive_field_length\n",
    "        self.config['model']['input_length'] = self.input_length\n",
    "        self.config['model']['target_field_length'] = self.target_field_length\n",
    "        \n",
    "        # Layers in the model\n",
    "        self.conv1 = nn.Conv1d(1, self.config['model']['filters']['depths']['res'], self.config['model']['filters']['lengths']['res'], stride=1, bias = False, padding=1)\n",
    "        \n",
    "        self.conv2 = nn.Conv1d(self.config['model']['filters']['depths']['res'], self.config['model']['filters']['depths']['final'][0], self.config['model']['filters']['lengths']['final'][0], stride=1, bias = False, padding=1)\n",
    "        \n",
    "        self.conv3 = nn.Conv1d(self.config['model']['filters']['depths']['final'][0], self.config['model']['filters']['depths']['final'][1], self.config['model']['filters']['lengths']['final'][1], stride=1, bias = False, padding=1)\n",
    "        \n",
    "        self.conv4 = nn.Conv1d(self.config['model']['filters']['depths']['final'][1], 1, 1, stride=1, bias = False, padding=0)\n",
    "        \n",
    "        self.dilated_layers = nn.ModuleList([dilated_residual_block(dilation, self.input_length, self.padded_target_field_length, self.config) for dilation in self.dilations])\n",
    "\n",
    "\n",
    "    def get_target_field_indices(self):\n",
    "\n",
    "        target_sample_index = self.get_target_sample_index()\n",
    "\n",
    "        return range(target_sample_index - self.half_target_field_length,\n",
    "                     target_sample_index + self.half_target_field_length + 1)\n",
    "\n",
    "    def get_padded_target_field_indices(self):\n",
    "\n",
    "        target_sample_index = self.get_target_sample_index()\n",
    "\n",
    "        return range(target_sample_index - self.half_target_field_length - self.target_padding,\n",
    "                     target_sample_index + self.half_target_field_length + self.target_padding + 1)\n",
    "\n",
    "    def get_target_sample_index(self):\n",
    "        return int(np.floor(self.input_length / 2.0))\n",
    "\n",
    "    def get_condition_input_length(self, representation):\n",
    "\n",
    "        if representation == 'binary':\n",
    "            return int(np.ceil(np.log2(self.num_condition_classes)))\n",
    "        else:\n",
    "            return self.num_condition_classes\n",
    "\n",
    "    def forward(self, x):\n",
    "\n",
    "        data_input = x#['data_input']\n",
    "\n",
    "        data_expanded = layers.expand_dims(data_input, 1)\n",
    "        \n",
    "        data_out = self.conv1(data_expanded)\n",
    "\n",
    "        skip_connections = []\n",
    "        for _ in range(self.num_stacks):\n",
    "            for layer in self.dilated_layers:\n",
    "                data_out, skip_out = layer(data_out)\n",
    "                if skip_out is not None:\n",
    "                    skip_connections.append(skip_out)\n",
    "\n",
    "        data_out = torch.stack( skip_connections, dim = 0).sum(dim = 0)\n",
    "        data_out = F.relu(data_out)\n",
    "\n",
    "        data_out = self.conv2(data_out)\n",
    "\n",
    "        data_out = F.relu(data_out)\n",
    "        \n",
    "        data_out = self.conv3(data_out)\n",
    "\n",
    "        data_out = self.conv4(data_out)\n",
    "\n",
    "        data_out_speech = data_out\n",
    "        data_out_noise = data_input - data_out_speech\n",
    "\n",
    "        data_out_speech = data_out_speech.squeeze_(1)\n",
    "\n",
    "        data_out_noise = data_out_noise.squeeze_(1)\n",
    "\n",
    "        return data_out_speech#, data_out_noise"
   ]
  },
  {
   "cell_type": "code",
   "execution_count": 63,
   "metadata": {
    "ExecuteTime": {
     "end_time": "2021-02-11T08:44:07.587453Z",
     "start_time": "2021-02-11T08:44:07.559567Z"
    }
   },
   "outputs": [],
   "source": [
    "dw = DenoisingWavenet(config)"
   ]
  },
  {
   "cell_type": "code",
   "execution_count": 64,
   "metadata": {
    "ExecuteTime": {
     "end_time": "2021-02-11T08:44:08.047337Z",
     "start_time": "2021-02-11T08:44:08.043586Z"
    }
   },
   "outputs": [
    {
     "data": {
      "text/plain": [
       "DenoisingWavenet(\n",
       "  (conv1): Conv1d(1, 128, kernel_size=(3,), stride=(1,), padding=(1,), bias=False)\n",
       "  (conv2): Conv1d(128, 2048, kernel_size=(3,), stride=(1,), padding=(1,), bias=False)\n",
       "  (conv3): Conv1d(2048, 256, kernel_size=(3,), stride=(1,), padding=(1,), bias=False)\n",
       "  (conv4): Conv1d(256, 1, kernel_size=(1,), stride=(1,), bias=False)\n",
       "  (dilated_layers): ModuleList(\n",
       "    (0): dilated_residual_block(\n",
       "      (conv1): Conv1d(128, 256, kernel_size=(3,), stride=(1,), padding=(1,), bias=False)\n",
       "      (conv2): Conv1d(128, 256, kernel_size=(1,), stride=(1,), bias=False)\n",
       "    )\n",
       "    (1): dilated_residual_block(\n",
       "      (conv1): Conv1d(128, 256, kernel_size=(3,), stride=(1,), padding=(2,), dilation=(2,), bias=False)\n",
       "      (conv2): Conv1d(128, 256, kernel_size=(1,), stride=(1,), bias=False)\n",
       "    )\n",
       "    (2): dilated_residual_block(\n",
       "      (conv1): Conv1d(128, 256, kernel_size=(3,), stride=(1,), padding=(4,), dilation=(4,), bias=False)\n",
       "      (conv2): Conv1d(128, 256, kernel_size=(1,), stride=(1,), bias=False)\n",
       "    )\n",
       "    (3): dilated_residual_block(\n",
       "      (conv1): Conv1d(128, 256, kernel_size=(3,), stride=(1,), padding=(8,), dilation=(8,), bias=False)\n",
       "      (conv2): Conv1d(128, 256, kernel_size=(1,), stride=(1,), bias=False)\n",
       "    )\n",
       "    (4): dilated_residual_block(\n",
       "      (conv1): Conv1d(128, 256, kernel_size=(3,), stride=(1,), padding=(16,), dilation=(16,), bias=False)\n",
       "      (conv2): Conv1d(128, 256, kernel_size=(1,), stride=(1,), bias=False)\n",
       "    )\n",
       "    (5): dilated_residual_block(\n",
       "      (conv1): Conv1d(128, 256, kernel_size=(3,), stride=(1,), padding=(32,), dilation=(32,), bias=False)\n",
       "      (conv2): Conv1d(128, 256, kernel_size=(1,), stride=(1,), bias=False)\n",
       "    )\n",
       "    (6): dilated_residual_block(\n",
       "      (conv1): Conv1d(128, 256, kernel_size=(3,), stride=(1,), padding=(64,), dilation=(64,), bias=False)\n",
       "      (conv2): Conv1d(128, 256, kernel_size=(1,), stride=(1,), bias=False)\n",
       "    )\n",
       "    (7): dilated_residual_block(\n",
       "      (conv1): Conv1d(128, 256, kernel_size=(3,), stride=(1,), padding=(128,), dilation=(128,), bias=False)\n",
       "      (conv2): Conv1d(128, 256, kernel_size=(1,), stride=(1,), bias=False)\n",
       "    )\n",
       "    (8): dilated_residual_block(\n",
       "      (conv1): Conv1d(128, 256, kernel_size=(3,), stride=(1,), padding=(256,), dilation=(256,), bias=False)\n",
       "      (conv2): Conv1d(128, 256, kernel_size=(1,), stride=(1,), bias=False)\n",
       "    )\n",
       "    (9): dilated_residual_block(\n",
       "      (conv1): Conv1d(128, 256, kernel_size=(3,), stride=(1,), padding=(512,), dilation=(512,), bias=False)\n",
       "      (conv2): Conv1d(128, 256, kernel_size=(1,), stride=(1,), bias=False)\n",
       "    )\n",
       "  )\n",
       ")"
      ]
     },
     "execution_count": 64,
     "metadata": {},
     "output_type": "execute_result"
    }
   ],
   "source": [
    "dw"
   ]
  },
  {
   "cell_type": "code",
   "execution_count": 70,
   "metadata": {
    "ExecuteTime": {
     "end_time": "2021-02-11T10:02:26.401054Z",
     "start_time": "2021-02-11T10:02:26.341413Z"
    },
    "scrolled": false
   },
   "outputs": [
    {
     "name": "stdout",
     "output_type": "stream",
     "text": [
      "----------------------------------------------------------------\n",
      "        Layer (type)               Output Shape         Param #\n",
      "================================================================\n",
      "            Conv1d-1              [-1, 128, 10]             384\n",
      "            Conv1d-2              [-1, 256, 10]          98,304\n",
      "            Conv1d-3              [-1, 256, 10]          32,768\n",
      "dilated_residual_block-4  [[-1, 128, 10], [-1, 128, 10]]               0\n",
      "            Conv1d-5              [-1, 256, 10]          98,304\n",
      "            Conv1d-6              [-1, 256, 10]          32,768\n",
      "dilated_residual_block-7  [[-1, 128, 10], [-1, 128, 10]]               0\n",
      "            Conv1d-8              [-1, 256, 10]          98,304\n",
      "            Conv1d-9              [-1, 256, 10]          32,768\n",
      "dilated_residual_block-10  [[-1, 128, 10], [-1, 128, 10]]               0\n",
      "           Conv1d-11              [-1, 256, 10]          98,304\n",
      "           Conv1d-12              [-1, 256, 10]          32,768\n",
      "dilated_residual_block-13  [[-1, 128, 10], [-1, 128, 10]]               0\n",
      "           Conv1d-14              [-1, 256, 10]          98,304\n",
      "           Conv1d-15              [-1, 256, 10]          32,768\n",
      "dilated_residual_block-16  [[-1, 128, 10], [-1, 128, 10]]               0\n",
      "           Conv1d-17              [-1, 256, 10]          98,304\n",
      "           Conv1d-18              [-1, 256, 10]          32,768\n",
      "dilated_residual_block-19  [[-1, 128, 10], [-1, 128, 10]]               0\n",
      "           Conv1d-20              [-1, 256, 10]          98,304\n",
      "           Conv1d-21              [-1, 256, 10]          32,768\n",
      "dilated_residual_block-22  [[-1, 128, 10], [-1, 128, 10]]               0\n",
      "           Conv1d-23              [-1, 256, 10]          98,304\n",
      "           Conv1d-24              [-1, 256, 10]          32,768\n",
      "dilated_residual_block-25  [[-1, 128, 10], [-1, 128, 10]]               0\n",
      "           Conv1d-26              [-1, 256, 10]          98,304\n",
      "           Conv1d-27              [-1, 256, 10]          32,768\n",
      "dilated_residual_block-28  [[-1, 128, 10], [-1, 128, 10]]               0\n",
      "           Conv1d-29              [-1, 256, 10]          98,304\n",
      "           Conv1d-30              [-1, 256, 10]          32,768\n",
      "dilated_residual_block-31  [[-1, 128, 10], [-1, 128, 10]]               0\n",
      "           Conv1d-32              [-1, 256, 10]          98,304\n",
      "           Conv1d-33              [-1, 256, 10]          32,768\n",
      "dilated_residual_block-34  [[-1, 128, 10], [-1, 128, 10]]               0\n",
      "           Conv1d-35              [-1, 256, 10]          98,304\n",
      "           Conv1d-36              [-1, 256, 10]          32,768\n",
      "dilated_residual_block-37  [[-1, 128, 10], [-1, 128, 10]]               0\n",
      "           Conv1d-38              [-1, 256, 10]          98,304\n",
      "           Conv1d-39              [-1, 256, 10]          32,768\n",
      "dilated_residual_block-40  [[-1, 128, 10], [-1, 128, 10]]               0\n",
      "           Conv1d-41              [-1, 256, 10]          98,304\n",
      "           Conv1d-42              [-1, 256, 10]          32,768\n",
      "dilated_residual_block-43  [[-1, 128, 10], [-1, 128, 10]]               0\n",
      "           Conv1d-44              [-1, 256, 10]          98,304\n",
      "           Conv1d-45              [-1, 256, 10]          32,768\n",
      "dilated_residual_block-46  [[-1, 128, 10], [-1, 128, 10]]               0\n",
      "           Conv1d-47              [-1, 256, 10]          98,304\n",
      "           Conv1d-48              [-1, 256, 10]          32,768\n",
      "dilated_residual_block-49  [[-1, 128, 10], [-1, 128, 10]]               0\n",
      "           Conv1d-50              [-1, 256, 10]          98,304\n",
      "           Conv1d-51              [-1, 256, 10]          32,768\n",
      "dilated_residual_block-52  [[-1, 128, 10], [-1, 128, 10]]               0\n",
      "           Conv1d-53              [-1, 256, 10]          98,304\n",
      "           Conv1d-54              [-1, 256, 10]          32,768\n",
      "dilated_residual_block-55  [[-1, 128, 10], [-1, 128, 10]]               0\n",
      "           Conv1d-56              [-1, 256, 10]          98,304\n",
      "           Conv1d-57              [-1, 256, 10]          32,768\n",
      "dilated_residual_block-58  [[-1, 128, 10], [-1, 128, 10]]               0\n",
      "           Conv1d-59              [-1, 256, 10]          98,304\n",
      "           Conv1d-60              [-1, 256, 10]          32,768\n",
      "dilated_residual_block-61  [[-1, 128, 10], [-1, 128, 10]]               0\n",
      "           Conv1d-62              [-1, 256, 10]          98,304\n",
      "           Conv1d-63              [-1, 256, 10]          32,768\n",
      "dilated_residual_block-64  [[-1, 128, 10], [-1, 128, 10]]               0\n",
      "           Conv1d-65              [-1, 256, 10]          98,304\n",
      "           Conv1d-66              [-1, 256, 10]          32,768\n",
      "dilated_residual_block-67  [[-1, 128, 10], [-1, 128, 10]]               0\n",
      "           Conv1d-68              [-1, 256, 10]          98,304\n",
      "           Conv1d-69              [-1, 256, 10]          32,768\n",
      "dilated_residual_block-70  [[-1, 128, 10], [-1, 128, 10]]               0\n",
      "           Conv1d-71              [-1, 256, 10]          98,304\n",
      "           Conv1d-72              [-1, 256, 10]          32,768\n",
      "dilated_residual_block-73  [[-1, 128, 10], [-1, 128, 10]]               0\n",
      "           Conv1d-74              [-1, 256, 10]          98,304\n",
      "           Conv1d-75              [-1, 256, 10]          32,768\n",
      "dilated_residual_block-76  [[-1, 128, 10], [-1, 128, 10]]               0\n",
      "           Conv1d-77              [-1, 256, 10]          98,304\n",
      "           Conv1d-78              [-1, 256, 10]          32,768\n",
      "dilated_residual_block-79  [[-1, 128, 10], [-1, 128, 10]]               0\n",
      "           Conv1d-80              [-1, 256, 10]          98,304\n",
      "           Conv1d-81              [-1, 256, 10]          32,768\n",
      "dilated_residual_block-82  [[-1, 128, 10], [-1, 128, 10]]               0\n",
      "           Conv1d-83              [-1, 256, 10]          98,304\n",
      "           Conv1d-84              [-1, 256, 10]          32,768\n",
      "dilated_residual_block-85  [[-1, 128, 10], [-1, 128, 10]]               0\n",
      "           Conv1d-86              [-1, 256, 10]          98,304\n",
      "           Conv1d-87              [-1, 256, 10]          32,768\n",
      "dilated_residual_block-88  [[-1, 128, 10], [-1, 128, 10]]               0\n",
      "           Conv1d-89              [-1, 256, 10]          98,304\n",
      "           Conv1d-90              [-1, 256, 10]          32,768\n",
      "dilated_residual_block-91  [[-1, 128, 10], [-1, 128, 10]]               0\n",
      "           Conv1d-92             [-1, 2048, 10]         786,432\n",
      "           Conv1d-93              [-1, 256, 10]       1,572,864\n",
      "           Conv1d-94                [-1, 1, 10]             256\n",
      "================================================================\n",
      "Total params: 6,292,096\n",
      "Trainable params: 6,292,096\n",
      "Non-trainable params: 0\n",
      "----------------------------------------------------------------\n",
      "Input size (MB): 0.00\n",
      "Forward/backward pass size (MB): 373.64\n",
      "Params size (MB): 24.00\n",
      "Estimated Total Size (MB): 397.64\n",
      "----------------------------------------------------------------\n"
     ]
    }
   ],
   "source": [
    "summary(dw, (10,))"
   ]
  },
  {
   "cell_type": "code",
   "execution_count": 432,
   "metadata": {
    "ExecuteTime": {
     "end_time": "2021-02-11T14:59:37.496370Z",
     "start_time": "2021-02-11T14:59:37.488813Z"
    }
   },
   "outputs": [
    {
     "data": {
      "text/plain": [
       "(torch.Size([10000, 1]), 8000)"
      ]
     },
     "execution_count": 432,
     "metadata": {},
     "output_type": "execute_result"
    }
   ],
   "source": [
    "waveform, sample_rate = torchaudio.load(\"wav.wav\")\n",
    "waveform = waveform[:1, :]\n",
    "waveform = waveform.narrow(1, 0, 10000).T#.squeeze()\n",
    "waveform.shape, sample_rate"
   ]
  },
  {
   "cell_type": "code",
   "execution_count": 433,
   "metadata": {
    "ExecuteTime": {
     "end_time": "2021-02-11T14:59:37.968249Z",
     "start_time": "2021-02-11T14:59:37.962681Z"
    }
   },
   "outputs": [
    {
     "data": {
      "text/plain": [
       "(torch.Size([257, 79]), 20303)"
      ]
     },
     "execution_count": 433,
     "metadata": {},
     "output_type": "execute_result"
    }
   ],
   "source": [
    "inter = torch.stft(waveform.squeeze(), n_fft=512, return_complex=True)\n",
    "inter.shape, inter.shape[0]*inter.shape[1]"
   ]
  },
  {
   "cell_type": "code",
   "execution_count": 434,
   "metadata": {
    "ExecuteTime": {
     "end_time": "2021-02-11T14:59:39.935848Z",
     "start_time": "2021-02-11T14:59:38.941166Z"
    }
   },
   "outputs": [],
   "source": [
    "for i in range(40000):\n",
    "    i, j = np.random.randint(0, inter.shape[0]), np.random.randint(0, inter.shape[1])\n",
    "    inter[i, j] = 0\n",
    "waveform_n = torch.istft(inter, n_fft=512)"
   ]
  },
  {
   "cell_type": "code",
   "execution_count": 308,
   "metadata": {
    "ExecuteTime": {
     "end_time": "2021-02-11T11:42:27.987666Z",
     "start_time": "2021-02-11T11:42:27.984788Z"
    }
   },
   "outputs": [],
   "source": [
    "# noise = np.random.normal(0, 0.01, waveform.shape)\n",
    "# waveform = waveform+noise"
   ]
  },
  {
   "cell_type": "code",
   "execution_count": 435,
   "metadata": {
    "ExecuteTime": {
     "end_time": "2021-02-11T14:59:41.019108Z",
     "start_time": "2021-02-11T14:59:41.012153Z"
    }
   },
   "outputs": [
    {
     "data": {
      "text/html": [
       "\n",
       "                <audio  controls=\"controls\" >\n",
       "                    <source src=\"data:audio/wav;base64,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\" type=\"audio/wav\" />\n",
       "                    Your browser does not support the audio element.\n",
       "                </audio>\n",
       "              "
      ],
      "text/plain": [
       "<IPython.lib.display.Audio object>"
      ]
     },
     "metadata": {},
     "output_type": "display_data"
    }
   ],
   "source": [
    "display(ipd.Audio(waveform_n.T, rate=sample_rate));"
   ]
  },
  {
   "cell_type": "code",
   "execution_count": 436,
   "metadata": {
    "ExecuteTime": {
     "end_time": "2021-02-11T14:59:42.006960Z",
     "start_time": "2021-02-11T14:59:41.594573Z"
    }
   },
   "outputs": [
    {
     "data": {
      "text/plain": [
       "[<matplotlib.lines.Line2D at 0x7fdd1f3f2d50>]"
      ]
     },
     "execution_count": 436,
     "metadata": {},
     "output_type": "execute_result"
    },
    {
     "data": {
      "image/png": "[encoded data removed]",
      "text/plain": [
       "<Figure size 1080x720 with 1 Axes>"
      ]
     },
     "metadata": {
      "needs_background": "light"
     },
     "output_type": "display_data"
    }
   ],
   "source": [
    "pylab.figure(figsize=(15, 10))\n",
    "\n",
    "pylab.plot(waveform.squeeze())\n",
    "pylab.plot(waveform_n.squeeze())\n",
    "# pylab.plot(y.detach().numpy().squeeze())\n"
   ]
  },
  {
   "cell_type": "code",
   "execution_count": 349,
   "metadata": {
    "ExecuteTime": {
     "end_time": "2021-02-11T14:19:53.523815Z",
     "start_time": "2021-02-11T14:19:53.448045Z"
    }
   },
   "outputs": [],
   "source": [
    "model = DenoisingWavenet(config)\n",
    "optimizer = optim.Adam(model.parameters())\n",
    "loss_fn = nn.L1Loss()"
   ]
  },
  {
   "cell_type": "code",
   "execution_count": 350,
   "metadata": {
    "ExecuteTime": {
     "end_time": "2021-02-11T14:34:48.514182Z",
     "start_time": "2021-02-11T14:19:54.757080Z"
    }
   },
   "outputs": [
    {
     "name": "stderr",
     "output_type": "stream",
     "text": [
      "/opt/anaconda3/lib/python3.7/site-packages/ipykernel_launcher.py:3: UserWarning: To copy construct from a tensor, it is recommended to use sourceTensor.clone().detach() or sourceTensor.clone().detach().requires_grad_(True), rather than torch.tensor(sourceTensor).\n",
      "  This is separate from the ipykernel package so we can avoid doing imports until\n",
      "/opt/anaconda3/lib/python3.7/site-packages/ipykernel_launcher.py:5: UserWarning: To copy construct from a tensor, it is recommended to use sourceTensor.clone().detach() or sourceTensor.clone().detach().requires_grad_(True), rather than torch.tensor(sourceTensor).\n",
      "  \"\"\"\n",
      "\n",
      "\n",
      "\n",
      "\n",
      "\n",
      "\n",
      "\n",
      "\n",
      "  0%|          | 0/49 [00:00<?, ?it/s]\u001b[A\u001b[A\u001b[A\u001b[A\u001b[A\u001b[A\u001b[A\u001b[A"
     ]
    },
    {
     "name": "stdout",
     "output_type": "stream",
     "text": [
      "1\r"
     ]
    },
    {
     "name": "stderr",
     "output_type": "stream",
     "text": [
      "\n",
      "\n",
      "\n",
      "\n",
      "\n",
      "\n",
      "\n",
      "\n",
      "  2%|▏         | 1/49 [01:07<54:18, 67.88s/it]\u001b[A\u001b[A\u001b[A\u001b[A\u001b[A\u001b[A\u001b[A\u001b[A"
     ]
    },
    {
     "name": "stdout",
     "output_type": "stream",
     "text": [
      "Epoch - 1 Train-Loss : 0.035037294030189514\n",
      "1\r"
     ]
    },
    {
     "name": "stderr",
     "output_type": "stream",
     "text": [
      "\n",
      "\n",
      "\n",
      "\n",
      "\n",
      "\n",
      "\n",
      "\n",
      "  4%|▍         | 2/49 [02:15<52:59, 67.66s/it]\u001b[A\u001b[A\u001b[A\u001b[A\u001b[A\u001b[A\u001b[A\u001b[A"
     ]
    },
    {
     "name": "stdout",
     "output_type": "stream",
     "text": [
      "Epoch - 2 Train-Loss : 0.08609478920698166\n",
      "1\r"
     ]
    },
    {
     "name": "stderr",
     "output_type": "stream",
     "text": [
      "\n",
      "\n",
      "\n",
      "\n",
      "\n",
      "\n",
      "\n",
      "\n",
      "  6%|▌         | 3/49 [03:20<51:27, 67.11s/it]\u001b[A\u001b[A\u001b[A\u001b[A\u001b[A\u001b[A\u001b[A\u001b[A"
     ]
    },
    {
     "name": "stdout",
     "output_type": "stream",
     "text": [
      "Epoch - 3 Train-Loss : 0.03391112759709358\n",
      "1\r"
     ]
    },
    {
     "name": "stderr",
     "output_type": "stream",
     "text": [
      "\n",
      "\n",
      "\n",
      "\n",
      "\n",
      "\n",
      "\n",
      "\n",
      "  8%|▊         | 4/49 [04:26<50:03, 66.74s/it]\u001b[A\u001b[A\u001b[A\u001b[A\u001b[A\u001b[A\u001b[A\u001b[A"
     ]
    },
    {
     "name": "stdout",
     "output_type": "stream",
     "text": [
      "Epoch - 4 Train-Loss : 0.03720638528466225\n",
      "1\r"
     ]
    },
    {
     "name": "stderr",
     "output_type": "stream",
     "text": [
      "\n",
      "\n",
      "\n",
      "\n",
      "\n",
      "\n",
      "\n",
      "\n",
      " 10%|█         | 5/49 [05:32<48:38, 66.33s/it]\u001b[A\u001b[A\u001b[A\u001b[A\u001b[A\u001b[A\u001b[A\u001b[A"
     ]
    },
    {
     "name": "stdout",
     "output_type": "stream",
     "text": [
      "Epoch - 5 Train-Loss : 0.012499487027525902\n",
      "1\r"
     ]
    },
    {
     "name": "stderr",
     "output_type": "stream",
     "text": [
      "\n",
      "\n",
      "\n",
      "\n",
      "\n",
      "\n",
      "\n",
      "\n",
      " 12%|█▏        | 6/49 [06:36<47:09, 65.81s/it]\u001b[A\u001b[A\u001b[A\u001b[A\u001b[A\u001b[A\u001b[A\u001b[A"
     ]
    },
    {
     "name": "stdout",
     "output_type": "stream",
     "text": [
      "Epoch - 6 Train-Loss : 0.027229968458414078\n",
      "1\r"
     ]
    },
    {
     "name": "stderr",
     "output_type": "stream",
     "text": [
      "\n",
      "\n",
      "\n",
      "\n",
      "\n",
      "\n",
      "\n",
      "\n",
      " 14%|█▍        | 7/49 [07:41<45:57, 65.65s/it]\u001b[A\u001b[A\u001b[A\u001b[A\u001b[A\u001b[A\u001b[A\u001b[A"
     ]
    },
    {
     "name": "stdout",
     "output_type": "stream",
     "text": [
      "Epoch - 7 Train-Loss : 0.016583748161792755\n",
      "1\r"
     ]
    },
    {
     "name": "stderr",
     "output_type": "stream",
     "text": [
      "\n",
      "\n",
      "\n",
      "\n",
      "\n",
      "\n",
      "\n",
      "\n",
      " 16%|█▋        | 8/49 [08:47<44:46, 65.52s/it]\u001b[A\u001b[A\u001b[A\u001b[A\u001b[A\u001b[A\u001b[A\u001b[A"
     ]
    },
    {
     "name": "stdout",
     "output_type": "stream",
     "text": [
      "Epoch - 8 Train-Loss : 0.017955182120203972\n",
      "1\r"
     ]
    },
    {
     "name": "stderr",
     "output_type": "stream",
     "text": [
      "\n",
      "\n",
      "\n",
      "\n",
      "\n",
      "\n",
      "\n",
      "\n",
      " 18%|█▊        | 9/49 [09:52<43:35, 65.40s/it]\u001b[A\u001b[A\u001b[A\u001b[A\u001b[A\u001b[A\u001b[A\u001b[A"
     ]
    },
    {
     "name": "stdout",
     "output_type": "stream",
     "text": [
      "Epoch - 9 Train-Loss : 0.018256118521094322\n",
      "1\r"
     ]
    },
    {
     "name": "stderr",
     "output_type": "stream",
     "text": [
      "\n",
      "\n",
      "\n",
      "\n",
      "\n",
      "\n",
      "\n",
      "\n",
      " 20%|██        | 10/49 [10:56<42:10, 64.90s/it]\u001b[A\u001b[A\u001b[A\u001b[A\u001b[A\u001b[A\u001b[A\u001b[A"
     ]
    },
    {
     "name": "stdout",
     "output_type": "stream",
     "text": [
      "Epoch - 10 Train-Loss : 0.007743891794234514\n",
      "1\r"
     ]
    },
    {
     "name": "stderr",
     "output_type": "stream",
     "text": [
      "\n",
      "\n",
      "\n",
      "\n",
      "\n",
      "\n",
      "\n",
      "\n",
      " 22%|██▏       | 11/49 [12:00<40:57, 64.67s/it]\u001b[A\u001b[A\u001b[A\u001b[A\u001b[A\u001b[A\u001b[A\u001b[A"
     ]
    },
    {
     "name": "stdout",
     "output_type": "stream",
     "text": [
      "Epoch - 11 Train-Loss : 0.01575479842722416\n",
      "1\r"
     ]
    },
    {
     "name": "stderr",
     "output_type": "stream",
     "text": [
      "\n",
      "\n",
      "\n",
      "\n",
      "\n",
      "\n",
      "\n",
      "\n",
      " 24%|██▍       | 12/49 [13:08<40:38, 65.89s/it]\u001b[A\u001b[A\u001b[A\u001b[A\u001b[A\u001b[A\u001b[A\u001b[A"
     ]
    },
    {
     "name": "stdout",
     "output_type": "stream",
     "text": [
      "Epoch - 12 Train-Loss : 0.010868478566408157\n",
      "1\r"
     ]
    },
    {
     "name": "stderr",
     "output_type": "stream",
     "text": [
      "\n",
      "\n",
      "\n",
      "\n",
      "\n",
      "\n",
      "\n",
      "\n",
      " 27%|██▋       | 13/49 [14:19<40:26, 67.41s/it]\u001b[A\u001b[A\u001b[A\u001b[A\u001b[A\u001b[A\u001b[A\u001b[A"
     ]
    },
    {
     "name": "stdout",
     "output_type": "stream",
     "text": [
      "Epoch - 13 Train-Loss : 0.009821729734539986\n",
      "0\r"
     ]
    },
    {
     "ename": "KeyboardInterrupt",
     "evalue": "",
     "output_type": "error",
     "traceback": [
      "\u001b[0;31m---------------------------------------------------------------------------\u001b[0m",
      "\u001b[0;31mKeyboardInterrupt\u001b[0m                         Traceback (most recent call last)",
      "\u001b[0;32m<ipython-input-350-b95d37ecacb2>\u001b[0m in \u001b[0;36m<module>\u001b[0;34m\u001b[0m\n\u001b[1;32m     22\u001b[0m         \u001b[0my_hat\u001b[0m \u001b[0;34m=\u001b[0m \u001b[0mmodel\u001b[0m\u001b[0;34m(\u001b[0m\u001b[0mx\u001b[0m\u001b[0;34m)\u001b[0m\u001b[0;34m\u001b[0m\u001b[0;34m\u001b[0m\u001b[0m\n\u001b[1;32m     23\u001b[0m         \u001b[0mloss\u001b[0m \u001b[0;34m=\u001b[0m \u001b[0mloss_fn\u001b[0m\u001b[0;34m(\u001b[0m\u001b[0my_hat\u001b[0m\u001b[0;34m,\u001b[0m \u001b[0my\u001b[0m\u001b[0;34m)\u001b[0m\u001b[0;34m\u001b[0m\u001b[0;34m\u001b[0m\u001b[0m\n\u001b[0;32m---> 24\u001b[0;31m         \u001b[0mloss\u001b[0m\u001b[0;34m.\u001b[0m\u001b[0mbackward\u001b[0m\u001b[0;34m(\u001b[0m\u001b[0;34m)\u001b[0m\u001b[0;34m\u001b[0m\u001b[0;34m\u001b[0m\u001b[0m\n\u001b[0m\u001b[1;32m     25\u001b[0m         \u001b[0mbatch_losses\u001b[0m\u001b[0;34m.\u001b[0m\u001b[0mappend\u001b[0m\u001b[0;34m(\u001b[0m\u001b[0mloss\u001b[0m\u001b[0;34m)\u001b[0m\u001b[0;34m\u001b[0m\u001b[0;34m\u001b[0m\u001b[0m\n\u001b[1;32m     26\u001b[0m         \u001b[0moptimizer\u001b[0m\u001b[0;34m.\u001b[0m\u001b[0mstep\u001b[0m\u001b[0;34m(\u001b[0m\u001b[0;34m)\u001b[0m\u001b[0;34m\u001b[0m\u001b[0;34m\u001b[0m\u001b[0m\n",
      "\u001b[0;32m/opt/anaconda3/lib/python3.7/site-packages/torch/tensor.py\u001b[0m in \u001b[0;36mbackward\u001b[0;34m(self, gradient, retain_graph, create_graph)\u001b[0m\n\u001b[1;32m    219\u001b[0m                 \u001b[0mretain_graph\u001b[0m\u001b[0;34m=\u001b[0m\u001b[0mretain_graph\u001b[0m\u001b[0;34m,\u001b[0m\u001b[0;34m\u001b[0m\u001b[0;34m\u001b[0m\u001b[0m\n\u001b[1;32m    220\u001b[0m                 create_graph=create_graph)\n\u001b[0;32m--> 221\u001b[0;31m         \u001b[0mtorch\u001b[0m\u001b[0;34m.\u001b[0m\u001b[0mautograd\u001b[0m\u001b[0;34m.\u001b[0m\u001b[0mbackward\u001b[0m\u001b[0;34m(\u001b[0m\u001b[0mself\u001b[0m\u001b[0;34m,\u001b[0m \u001b[0mgradient\u001b[0m\u001b[0;34m,\u001b[0m \u001b[0mretain_graph\u001b[0m\u001b[0;34m,\u001b[0m \u001b[0mcreate_graph\u001b[0m\u001b[0;34m)\u001b[0m\u001b[0;34m\u001b[0m\u001b[0;34m\u001b[0m\u001b[0m\n\u001b[0m\u001b[1;32m    222\u001b[0m \u001b[0;34m\u001b[0m\u001b[0m\n\u001b[1;32m    223\u001b[0m     \u001b[0;32mdef\u001b[0m \u001b[0mregister_hook\u001b[0m\u001b[0;34m(\u001b[0m\u001b[0mself\u001b[0m\u001b[0;34m,\u001b[0m \u001b[0mhook\u001b[0m\u001b[0;34m)\u001b[0m\u001b[0;34m:\u001b[0m\u001b[0;34m\u001b[0m\u001b[0;34m\u001b[0m\u001b[0m\n",
      "\u001b[0;32m/opt/anaconda3/lib/python3.7/site-packages/torch/autograd/__init__.py\u001b[0m in \u001b[0;36mbackward\u001b[0;34m(tensors, grad_tensors, retain_graph, create_graph, grad_variables)\u001b[0m\n\u001b[1;32m    130\u001b[0m     Variable._execution_engine.run_backward(\n\u001b[1;32m    131\u001b[0m         \u001b[0mtensors\u001b[0m\u001b[0;34m,\u001b[0m \u001b[0mgrad_tensors_\u001b[0m\u001b[0;34m,\u001b[0m \u001b[0mretain_graph\u001b[0m\u001b[0;34m,\u001b[0m \u001b[0mcreate_graph\u001b[0m\u001b[0;34m,\u001b[0m\u001b[0;34m\u001b[0m\u001b[0;34m\u001b[0m\u001b[0m\n\u001b[0;32m--> 132\u001b[0;31m         allow_unreachable=True)  # allow_unreachable flag\n\u001b[0m\u001b[1;32m    133\u001b[0m \u001b[0;34m\u001b[0m\u001b[0m\n\u001b[1;32m    134\u001b[0m \u001b[0;34m\u001b[0m\u001b[0m\n",
      "\u001b[0;31mKeyboardInterrupt\u001b[0m: "
     ]
    }
   ],
   "source": [
    "waveform, sample_rate = torchaudio.load(\"wav.wav\")\n",
    "waveform = waveform[:1, :]\n",
    "waveform = torch.tensor(waveform.narrow(1, 0, 10000).T, dtype=torch.float32)\n",
    "noise = np.array(np.random.normal(0, 0.01, waveform.shape), dtype=\"double\")\n",
    "waveform_n = torch.tensor(waveform+noise, dtype=torch.float32)\n",
    "\n",
    "train_losses = []\n",
    "\n",
    "for epoch in tqdm(range(1, 50)):\n",
    "    counter = 0\n",
    "    model.train()\n",
    "    batch_losses=[]\n",
    "    batch_metric=[]\n",
    "    data = waveform\n",
    "    data_n = waveform_n\n",
    "    while True:\n",
    "        print(counter, end='\\r')\n",
    "        x, y = torch.clone(data), torch.clone(data)\n",
    "        optimizer.zero_grad()\n",
    "#         x = dict(map(lambda i: (i[0], i[1].to(self.device, dtype=torch.float32)), x.items()))\n",
    "#         y = dict(map(lambda i: (i[0], i[1].to(self.device, dtype=torch.float32)), y.items()))\n",
    "        y_hat = model(x)\n",
    "        loss = loss_fn(y_hat, y)\n",
    "        loss.backward()\n",
    "        batch_losses.append(loss)\n",
    "        optimizer.step()\n",
    "        if counter >= 1:\n",
    "            break\n",
    "        counter += 1\n",
    "    train_losses.append(torch.stack(batch_losses, dim = 0).mean(dim = 0).detach().cpu().numpy())\n",
    "    print(f'Epoch - {epoch} Train-Loss : {train_losses[-1]}')\n",
    "    counter = 0"
   ]
  },
  {
   "cell_type": "code",
   "execution_count": 351,
   "metadata": {
    "ExecuteTime": {
     "end_time": "2021-02-11T14:34:59.161495Z",
     "start_time": "2021-02-11T14:34:52.577987Z"
    }
   },
   "outputs": [],
   "source": [
    "y = model(waveform_n).squeeze()"
   ]
  },
  {
   "cell_type": "code",
   "execution_count": 352,
   "metadata": {
    "ExecuteTime": {
     "end_time": "2021-02-11T14:34:59.948888Z",
     "start_time": "2021-02-11T14:34:59.935961Z"
    }
   },
   "outputs": [
    {
     "data": {
      "text/html": [
       "\n",
       "                <audio  controls=\"controls\" >\n",
       "                    <source src=\"data:audio/wav;base64,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\" type=\"audio/wav\" />\n",
       "                    Your browser does not support the audio element.\n",
       "                </audio>\n",
       "              "
      ],
      "text/plain": [
       "<IPython.lib.display.Audio object>"
      ]
     },
     "metadata": {},
     "output_type": "display_data"
    }
   ],
   "source": [
    "display(ipd.Audio(x.squeeze(), rate=sample_rate));"
   ]
  },
  {
   "cell_type": "code",
   "execution_count": 353,
   "metadata": {
    "ExecuteTime": {
     "end_time": "2021-02-11T14:35:00.332400Z",
     "start_time": "2021-02-11T14:35:00.325366Z"
    }
   },
   "outputs": [
    {
     "data": {
      "text/html": [
       "\n",
       "                <audio  controls=\"controls\" >\n",
       "                    <source src=\"data:audio/wav;base64,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\" type=\"audio/wav\" />\n",
       "                    Your browser does not support the audio element.\n",
       "                </audio>\n",
       "              "
      ],
      "text/plain": [
       "<IPython.lib.display.Audio object>"
      ]
     },
     "metadata": {},
     "output_type": "display_data"
    }
   ],
   "source": [
    "display(ipd.Audio(y.detach().numpy(), rate=sample_rate));"
   ]
  },
  {
   "cell_type": "code",
   "execution_count": 354,
   "metadata": {
    "ExecuteTime": {
     "end_time": "2021-02-11T14:35:02.085417Z",
     "start_time": "2021-02-11T14:35:02.080680Z"
    }
   },
   "outputs": [],
   "source": [
    "nnn = y.detach().numpy()-x.squeeze().numpy()"
   ]
  },
  {
   "cell_type": "code",
   "execution_count": 355,
   "metadata": {
    "ExecuteTime": {
     "end_time": "2021-02-11T14:35:02.806617Z",
     "start_time": "2021-02-11T14:35:02.581701Z"
    }
   },
   "outputs": [
    {
     "data": {
      "text/plain": [
       "[<matplotlib.lines.Line2D at 0x7fdcdec0a8d0>]"
      ]
     },
     "execution_count": 355,
     "metadata": {},
     "output_type": "execute_result"
    },
    {
     "data": {
      "image/png": "[encoded data removed]",
      "text/plain": [
       "<Figure size 432x288 with 1 Axes>"
      ]
     },
     "metadata": {
      "needs_background": "light"
     },
     "output_type": "display_data"
    }
   ],
   "source": [
    "pylab.plot(nnn)"
   ]
  },
  {
   "cell_type": "code",
   "execution_count": 131,
   "metadata": {
    "ExecuteTime": {
     "end_time": "2021-02-11T10:48:36.650810Z",
     "start_time": "2021-02-11T10:48:36.647233Z"
    }
   },
   "outputs": [
    {
     "data": {
      "text/plain": [
       "torch.Size([1000, 1, 1, 1])"
      ]
     },
     "execution_count": 131,
     "metadata": {},
     "output_type": "execute_result"
    }
   ],
   "source": [
    "data.shape"
   ]
  }
 ],
 "metadata": {
  "hide_input": false,
  "kernelspec": {
   "display_name": "Python 3",
   "language": "python",
   "name": "python3"
  },
  "language_info": {
   "codemirror_mode": {
    "name": "ipython",
    "version": 3
   },
   "file_extension": ".py",
   "mimetype": "text/x-python",
   "name": "python",
   "nbconvert_exporter": "python",
   "pygments_lexer": "ipython3",
   "version": "3.7.4"
  },
  "toc": {
   "base_numbering": 1,
   "nav_menu": {},
   "number_sections": true,
   "sideBar": true,
   "skip_h1_title": false,
   "title_cell": "Table of Contents",
   "title_sidebar": "Contents",
   "toc_cell": true,
   "toc_position": {},
   "toc_section_display": true,
   "toc_window_display": true
  },
  "varInspector": {
   "cols": {
    "lenName": 16,
    "lenType": 16,
    "lenVar": 40
   },
   "kernels_config": {
    "python": {
     "delete_cmd_postfix": "",
     "delete_cmd_prefix": "del ",
     "library": "var_list.py",
     "varRefreshCmd": "print(var_dic_list())"
    },
    "r": {
     "delete_cmd_postfix": ") ",
     "delete_cmd_prefix": "rm(",
     "library": "var_list.r",
     "varRefreshCmd": "cat(var_dic_list()) "
    }
   },
   "types_to_exclude": [
    "module",
    "function",
    "builtin_function_or_method",
    "instance",
    "_Feature"
   ],
   "window_display": false
  }
 },
 "nbformat": 4,
 "nbformat_minor": 2
}
