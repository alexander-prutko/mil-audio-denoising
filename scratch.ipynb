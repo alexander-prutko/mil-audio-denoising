{
 "cells": [
  {
   "cell_type": "markdown",
   "metadata": {
    "toc": true
   },
   "source": [
    "<h1>Table of Contents<span class=\"tocSkip\"></span></h1>\n",
    "<div class=\"toc\"><ul class=\"toc-item\"></ul></div>"
   ]
  },
  {
   "cell_type": "code",
   "execution_count": 1,
   "metadata": {
    "ExecuteTime": {
     "end_time": "2021-02-11T19:11:30.840726Z",
     "start_time": "2021-02-11T19:11:29.870049Z"
    }
   },
   "outputs": [
    {
     "name": "stderr",
     "output_type": "stream",
     "text": [
      "E:\\Users\\alex\\anaconda3\\envs\\mil\\lib\\site-packages\\torchaudio\\extension\\extension.py:14: UserWarning: torchaudio C++ extension is not available.\n",
      "  warnings.warn('torchaudio C++ extension is not available.')\n",
      "E:\\Users\\alex\\anaconda3\\envs\\mil\\lib\\site-packages\\torchaudio\\backend\\utils.py:64: UserWarning: The interface of \"soundfile\" backend is planned to change in 0.8.0 to match that of \"sox_io\" backend and the current interface will be removed in 0.9.0. To use the new interface, do `torchaudio.USE_SOUNDFILE_LEGACY_INTERFACE = False` before setting the backend to \"soundfile\". Please refer to https://github.com/pytorch/audio/issues/903 for the detail.\n",
      "  'The interface of \"soundfile\" backend is planned to change in 0.8.0 to '\n"
     ]
    }
   ],
   "source": [
    "import torch.nn.functional as F\n",
    "import util\n",
    "import layers\n",
    "import os\n",
    "import logging\n",
    "import numpy as np\n",
    "import pandas as pd\n",
    "import pickle\n",
    "import torch\n",
    "from torch.utils.data import Dataset, DataLoader\n",
    "import torch.nn as nn\n",
    "import torch.optim as optim\n",
    "from tqdm import tqdm as tqdm\n",
    "\n",
    "import torchaudio\n",
    "\n",
    "from matplotlib import pyplot as pylab\n",
    "\n",
    "# %pylab inline"
   ]
  },
  {
   "cell_type": "code",
   "execution_count": 2,
   "metadata": {
    "ExecuteTime": {
     "end_time": "2021-02-11T19:11:31.440365Z",
     "start_time": "2021-02-11T19:11:31.435365Z"
    }
   },
   "outputs": [],
   "source": [
    "import IPython.display as ipd\n",
    "import numpy as np"
   ]
  },
  {
   "cell_type": "code",
   "execution_count": 3,
   "metadata": {
    "ExecuteTime": {
     "end_time": "2021-02-11T19:11:32.440559Z",
     "start_time": "2021-02-11T19:11:32.402560Z"
    }
   },
   "outputs": [],
   "source": [
    "dev = torch.device(\n",
    "    \"cuda\") if torch.cuda.is_available() else torch.device(\"cpu\")"
   ]
  },
  {
   "cell_type": "code",
   "execution_count": 4,
   "metadata": {
    "ExecuteTime": {
     "end_time": "2021-02-11T19:11:35.082096Z",
     "start_time": "2021-02-11T19:11:35.042095Z"
    }
   },
   "outputs": [],
   "source": [
    "from torchvision import models\n",
    "from torchsummary import summary\n",
    "\n",
    "# vgg = models.vgg16()\n",
    "# vgg.to(dev)\n",
    "# summary(vgg, (3, 224, 224))"
   ]
  },
  {
   "cell_type": "code",
   "execution_count": 5,
   "metadata": {
    "ExecuteTime": {
     "end_time": "2021-02-11T17:08:18.445152Z",
     "start_time": "2021-02-11T17:08:18.428154Z"
    },
    "code_folding": []
   },
   "outputs": [],
   "source": [
    "config = {\n",
    "    \"dataset\": {\n",
    "        \"extract_voice\": True,\n",
    "        \"in_memory_percentage\": 1,\n",
    "        \"noise_only_percent\": 0.1,\n",
    "        \"num_condition_classes\": 29,\n",
    "        \"path\": \"data/NSDTSEA/\",\n",
    "        \"regain\": 0.06,\n",
    "        \"sample_rate\": 16000,\n",
    "        \"type\": \"nsdtsea\"\n",
    "    },\n",
    "    \"model\": {\n",
    "        \"condition_encoding\": \"binary\",\n",
    "        \"dilations\": 9,\n",
    "        \"filters\": {\n",
    "            \"lengths\": {\n",
    "                \"res\": 3,\n",
    "                \"final\": [3, 3],\n",
    "                \"skip\": 1\n",
    "            },\n",
    "            \"depths\": {\n",
    "                \"res\": 128,\n",
    "                \"skip\": 128,\n",
    "                \"final\": [2048, 256]\n",
    "            }\n",
    "        },\n",
    "        \"num_stacks\": 3,\n",
    "        \"target_field_length\": 1601,\n",
    "        \"target_padding\": 1\n",
    "    },\n",
    "    \"optimizer\": {\n",
    "        \"decay\": 0.0,\n",
    "        \"epsilon\": 1e-08,\n",
    "        \"lr\": 0.001,\n",
    "        \"momentum\": 0.9,\n",
    "        \"type\": \"adam\"\n",
    "    },\n",
    "    \"training\": {\n",
    "        \"batch_size\": 10,\n",
    "        \"early_stopping_patience\": 16,\n",
    "        \"loss\": {\n",
    "            \"out_1\": {\n",
    "                \"l1\": 1,\n",
    "                \"l2\": 0,\n",
    "                \"weight\": 1\n",
    "            },\n",
    "            \"out_2\": {\n",
    "                \"l1\": 1,\n",
    "                \"l2\": 0,\n",
    "                \"weight\": 1\n",
    "            }\n",
    "        },\n",
    "        \"num_epochs\": 250,\n",
    "        \"num_test_samples\": 100,\n",
    "        \"num_train_samples\": 1000,\n",
    "        \"path\": \"data/NSDTSEA/\"\n",
    "    }\n",
    "}"
   ]
  },
  {
   "cell_type": "code",
   "execution_count": 6,
   "metadata": {
    "ExecuteTime": {
     "end_time": "2021-02-11T17:08:19.057018Z",
     "start_time": "2021-02-11T17:08:19.044990Z"
    },
    "code_folding": []
   },
   "outputs": [],
   "source": [
    "class dilated_residual_block(nn.Module):\n",
    "    \n",
    "    def __init__(self, dilation, input_length, padded_target_field_length, config):\n",
    "        super().__init__()\n",
    "        self.dilation =  dilation\n",
    "        self.input_length = input_length\n",
    "#         self.condition_input_length = condition_input_length\n",
    "#         self.samples_of_interest_indices = samples_of_interest_indices\n",
    "        self.padded_target_field_length = padded_target_field_length\n",
    "        self.config = config\n",
    "        self.conv1 = nn.Conv1d(self.config['model']['filters']['depths']['res'], 2*self.config['model']['filters']['depths']['res'],\n",
    "                               kernel_size = self.config['model']['filters']['lengths']['res'], stride=1, bias = False, dilation = self.dilation,\n",
    "                               padding=int(self.dilation))\n",
    "        self.conv2 = nn.Conv1d(self.config['model']['filters']['depths']['res'], \n",
    "                               self.config['model']['filters']['depths']['res'] + self.config['model']['filters']['depths']['skip'],\n",
    "                               1, stride=1, bias = False, padding=0)\n",
    "        \n",
    "    \n",
    "    def forward(self, data_x):\n",
    "\n",
    "        original_x = data_x\n",
    "\n",
    "        # Data sub-block\n",
    "        data_out = self.conv1(data_x)\n",
    "\n",
    "        data_out_1 = layers.slicing(data_out, slice(0, self.config['model']['filters']['depths']['res'],1), 1) \n",
    "\n",
    "        data_out_2 = layers.slicing(data_out, slice(self.config['model']['filters']['depths']['res'], \n",
    "                                                    2*self.config['model']['filters']['depths']['res'],1), 1)\n",
    "\n",
    "        data_out_1 = data_out_1\n",
    "        \n",
    "        data_out_2 = data_out_2\n",
    "\n",
    "        tanh_out = torch.tanh(data_out_1)\n",
    "        sigm_out = torch.sigmoid(data_out_2)\n",
    "\n",
    "        data_x = tanh_out*sigm_out\n",
    "\n",
    "        data_x = self.conv2(data_x)\n",
    "\n",
    "        res_x = layers.slicing(data_x, slice(0, self.config['model']['filters']['depths']['res'],1), 1)\n",
    "        \n",
    "        skip_x = layers.slicing(data_x, slice(self.config['model']['filters']['depths']['res'], \n",
    "                                self.config['model']['filters']['depths']['res']+self.config['model']['filters']['depths']['skip'],1), 1)\n",
    "\n",
    "        res_x = res_x + original_x\n",
    "\n",
    "        return res_x, skip_x"
   ]
  },
  {
   "cell_type": "code",
   "execution_count": 7,
   "metadata": {
    "ExecuteTime": {
     "end_time": "2021-02-11T17:08:19.849082Z",
     "start_time": "2021-02-11T17:08:19.836785Z"
    }
   },
   "outputs": [],
   "source": [
    "drb = dilated_residual_block(9, 100, 100, config)\n",
    "# drb.to(dev)"
   ]
  },
  {
   "cell_type": "code",
   "execution_count": 8,
   "metadata": {
    "ExecuteTime": {
     "end_time": "2021-02-11T16:50:47.924673Z",
     "start_time": "2021-02-11T16:50:46.433372Z"
    }
   },
   "outputs": [
    {
     "ename": "RuntimeError",
     "evalue": "Input type (torch.cuda.FloatTensor) and weight type (torch.FloatTensor) should be the same",
     "output_type": "error",
     "traceback": [
      "\u001b[1;31m---------------------------------------------------------------------------\u001b[0m",
      "\u001b[1;31mRuntimeError\u001b[0m                              Traceback (most recent call last)",
      "\u001b[1;32m<ipython-input-8-ed62ac4e5cc1>\u001b[0m in \u001b[0;36m<module>\u001b[1;34m\u001b[0m\n\u001b[1;32m----> 1\u001b[1;33m \u001b[0msummary\u001b[0m\u001b[1;33m(\u001b[0m\u001b[0mdrb\u001b[0m\u001b[1;33m,\u001b[0m \u001b[1;33m(\u001b[0m\u001b[1;36m128\u001b[0m\u001b[1;33m,\u001b[0m \u001b[1;36m3\u001b[0m\u001b[1;33m)\u001b[0m\u001b[1;33m)\u001b[0m\u001b[1;33m\u001b[0m\u001b[1;33m\u001b[0m\u001b[0m\n\u001b[0m",
      "\u001b[1;32mE:\\Users\\alex\\anaconda3\\envs\\mil\\lib\\site-packages\\torchsummary\\torchsummary.py\u001b[0m in \u001b[0;36msummary\u001b[1;34m(model, input_size, batch_size, device)\u001b[0m\n\u001b[0;32m     70\u001b[0m     \u001b[1;31m# make a forward pass\u001b[0m\u001b[1;33m\u001b[0m\u001b[1;33m\u001b[0m\u001b[1;33m\u001b[0m\u001b[0m\n\u001b[0;32m     71\u001b[0m     \u001b[1;31m# print(x.shape)\u001b[0m\u001b[1;33m\u001b[0m\u001b[1;33m\u001b[0m\u001b[1;33m\u001b[0m\u001b[0m\n\u001b[1;32m---> 72\u001b[1;33m     \u001b[0mmodel\u001b[0m\u001b[1;33m(\u001b[0m\u001b[1;33m*\u001b[0m\u001b[0mx\u001b[0m\u001b[1;33m)\u001b[0m\u001b[1;33m\u001b[0m\u001b[1;33m\u001b[0m\u001b[0m\n\u001b[0m\u001b[0;32m     73\u001b[0m \u001b[1;33m\u001b[0m\u001b[0m\n\u001b[0;32m     74\u001b[0m     \u001b[1;31m# remove these hooks\u001b[0m\u001b[1;33m\u001b[0m\u001b[1;33m\u001b[0m\u001b[1;33m\u001b[0m\u001b[0m\n",
      "\u001b[1;32mE:\\Users\\alex\\anaconda3\\envs\\mil\\lib\\site-packages\\torch\\nn\\modules\\module.py\u001b[0m in \u001b[0;36m_call_impl\u001b[1;34m(self, *input, **kwargs)\u001b[0m\n\u001b[0;32m    725\u001b[0m             \u001b[0mresult\u001b[0m \u001b[1;33m=\u001b[0m \u001b[0mself\u001b[0m\u001b[1;33m.\u001b[0m\u001b[0m_slow_forward\u001b[0m\u001b[1;33m(\u001b[0m\u001b[1;33m*\u001b[0m\u001b[0minput\u001b[0m\u001b[1;33m,\u001b[0m \u001b[1;33m**\u001b[0m\u001b[0mkwargs\u001b[0m\u001b[1;33m)\u001b[0m\u001b[1;33m\u001b[0m\u001b[1;33m\u001b[0m\u001b[0m\n\u001b[0;32m    726\u001b[0m         \u001b[1;32melse\u001b[0m\u001b[1;33m:\u001b[0m\u001b[1;33m\u001b[0m\u001b[1;33m\u001b[0m\u001b[0m\n\u001b[1;32m--> 727\u001b[1;33m             \u001b[0mresult\u001b[0m \u001b[1;33m=\u001b[0m \u001b[0mself\u001b[0m\u001b[1;33m.\u001b[0m\u001b[0mforward\u001b[0m\u001b[1;33m(\u001b[0m\u001b[1;33m*\u001b[0m\u001b[0minput\u001b[0m\u001b[1;33m,\u001b[0m \u001b[1;33m**\u001b[0m\u001b[0mkwargs\u001b[0m\u001b[1;33m)\u001b[0m\u001b[1;33m\u001b[0m\u001b[1;33m\u001b[0m\u001b[0m\n\u001b[0m\u001b[0;32m    728\u001b[0m         for hook in itertools.chain(\n\u001b[0;32m    729\u001b[0m                 \u001b[0m_global_forward_hooks\u001b[0m\u001b[1;33m.\u001b[0m\u001b[0mvalues\u001b[0m\u001b[1;33m(\u001b[0m\u001b[1;33m)\u001b[0m\u001b[1;33m,\u001b[0m\u001b[1;33m\u001b[0m\u001b[1;33m\u001b[0m\u001b[0m\n",
      "\u001b[1;32m<ipython-input-6-a6efd447b146>\u001b[0m in \u001b[0;36mforward\u001b[1;34m(self, data_x)\u001b[0m\n\u001b[0;32m     22\u001b[0m \u001b[1;33m\u001b[0m\u001b[0m\n\u001b[0;32m     23\u001b[0m         \u001b[1;31m# Data sub-block\u001b[0m\u001b[1;33m\u001b[0m\u001b[1;33m\u001b[0m\u001b[1;33m\u001b[0m\u001b[0m\n\u001b[1;32m---> 24\u001b[1;33m         \u001b[0mdata_out\u001b[0m \u001b[1;33m=\u001b[0m \u001b[0mself\u001b[0m\u001b[1;33m.\u001b[0m\u001b[0mconv1\u001b[0m\u001b[1;33m(\u001b[0m\u001b[0mdata_x\u001b[0m\u001b[1;33m)\u001b[0m\u001b[1;33m\u001b[0m\u001b[1;33m\u001b[0m\u001b[0m\n\u001b[0m\u001b[0;32m     25\u001b[0m \u001b[1;33m\u001b[0m\u001b[0m\n\u001b[0;32m     26\u001b[0m         \u001b[0mdata_out_1\u001b[0m \u001b[1;33m=\u001b[0m \u001b[0mlayers\u001b[0m\u001b[1;33m.\u001b[0m\u001b[0mslicing\u001b[0m\u001b[1;33m(\u001b[0m\u001b[0mdata_out\u001b[0m\u001b[1;33m,\u001b[0m \u001b[0mslice\u001b[0m\u001b[1;33m(\u001b[0m\u001b[1;36m0\u001b[0m\u001b[1;33m,\u001b[0m \u001b[0mself\u001b[0m\u001b[1;33m.\u001b[0m\u001b[0mconfig\u001b[0m\u001b[1;33m[\u001b[0m\u001b[1;34m'model'\u001b[0m\u001b[1;33m]\u001b[0m\u001b[1;33m[\u001b[0m\u001b[1;34m'filters'\u001b[0m\u001b[1;33m]\u001b[0m\u001b[1;33m[\u001b[0m\u001b[1;34m'depths'\u001b[0m\u001b[1;33m]\u001b[0m\u001b[1;33m[\u001b[0m\u001b[1;34m'res'\u001b[0m\u001b[1;33m]\u001b[0m\u001b[1;33m,\u001b[0m\u001b[1;36m1\u001b[0m\u001b[1;33m)\u001b[0m\u001b[1;33m,\u001b[0m \u001b[1;36m1\u001b[0m\u001b[1;33m)\u001b[0m\u001b[1;33m\u001b[0m\u001b[1;33m\u001b[0m\u001b[0m\n",
      "\u001b[1;32mE:\\Users\\alex\\anaconda3\\envs\\mil\\lib\\site-packages\\torch\\nn\\modules\\module.py\u001b[0m in \u001b[0;36m_call_impl\u001b[1;34m(self, *input, **kwargs)\u001b[0m\n\u001b[0;32m    725\u001b[0m             \u001b[0mresult\u001b[0m \u001b[1;33m=\u001b[0m \u001b[0mself\u001b[0m\u001b[1;33m.\u001b[0m\u001b[0m_slow_forward\u001b[0m\u001b[1;33m(\u001b[0m\u001b[1;33m*\u001b[0m\u001b[0minput\u001b[0m\u001b[1;33m,\u001b[0m \u001b[1;33m**\u001b[0m\u001b[0mkwargs\u001b[0m\u001b[1;33m)\u001b[0m\u001b[1;33m\u001b[0m\u001b[1;33m\u001b[0m\u001b[0m\n\u001b[0;32m    726\u001b[0m         \u001b[1;32melse\u001b[0m\u001b[1;33m:\u001b[0m\u001b[1;33m\u001b[0m\u001b[1;33m\u001b[0m\u001b[0m\n\u001b[1;32m--> 727\u001b[1;33m             \u001b[0mresult\u001b[0m \u001b[1;33m=\u001b[0m \u001b[0mself\u001b[0m\u001b[1;33m.\u001b[0m\u001b[0mforward\u001b[0m\u001b[1;33m(\u001b[0m\u001b[1;33m*\u001b[0m\u001b[0minput\u001b[0m\u001b[1;33m,\u001b[0m \u001b[1;33m**\u001b[0m\u001b[0mkwargs\u001b[0m\u001b[1;33m)\u001b[0m\u001b[1;33m\u001b[0m\u001b[1;33m\u001b[0m\u001b[0m\n\u001b[0m\u001b[0;32m    728\u001b[0m         for hook in itertools.chain(\n\u001b[0;32m    729\u001b[0m                 \u001b[0m_global_forward_hooks\u001b[0m\u001b[1;33m.\u001b[0m\u001b[0mvalues\u001b[0m\u001b[1;33m(\u001b[0m\u001b[1;33m)\u001b[0m\u001b[1;33m,\u001b[0m\u001b[1;33m\u001b[0m\u001b[1;33m\u001b[0m\u001b[0m\n",
      "\u001b[1;32mE:\\Users\\alex\\anaconda3\\envs\\mil\\lib\\site-packages\\torch\\nn\\modules\\conv.py\u001b[0m in \u001b[0;36mforward\u001b[1;34m(self, input)\u001b[0m\n\u001b[0;32m    257\u001b[0m                             _single(0), self.dilation, self.groups)\n\u001b[0;32m    258\u001b[0m         return F.conv1d(input, self.weight, self.bias, self.stride,\n\u001b[1;32m--> 259\u001b[1;33m                         self.padding, self.dilation, self.groups)\n\u001b[0m\u001b[0;32m    260\u001b[0m \u001b[1;33m\u001b[0m\u001b[0m\n\u001b[0;32m    261\u001b[0m \u001b[1;33m\u001b[0m\u001b[0m\n",
      "\u001b[1;31mRuntimeError\u001b[0m: Input type (torch.cuda.FloatTensor) and weight type (torch.FloatTensor) should be the same"
     ]
    }
   ],
   "source": [
    "summary(drb, (128, 3))"
   ]
  },
  {
   "cell_type": "code",
   "execution_count": 8,
   "metadata": {
    "ExecuteTime": {
     "end_time": "2021-02-11T16:41:24.063892Z",
     "start_time": "2021-02-11T16:41:24.051890Z"
    }
   },
   "outputs": [
    {
     "data": {
      "text/plain": [
       "dilated_residual_block(\n",
       "  (conv1): Conv1d(128, 256, kernel_size=(3,), stride=(1,), padding=(9,), dilation=(9,), bias=False)\n",
       "  (conv2): Conv1d(128, 256, kernel_size=(1,), stride=(1,), bias=False)\n",
       ")"
      ]
     },
     "execution_count": 8,
     "metadata": {},
     "output_type": "execute_result"
    }
   ],
   "source": [
    "drb"
   ]
  },
  {
   "cell_type": "code",
   "execution_count": 8,
   "metadata": {
    "ExecuteTime": {
     "end_time": "2021-02-11T17:08:23.417200Z",
     "start_time": "2021-02-11T17:08:23.373202Z"
    }
   },
   "outputs": [],
   "source": [
    "class DenoisingWavenet(nn.Module):\n",
    "\n",
    "    def __init__(self, config, input_length=None, target_field_length=None):\n",
    "        super().__init__()\n",
    "\n",
    "        self.config = config\n",
    "        self.num_stacks = self.config['model']['num_stacks']\n",
    "        if type(self.config['model']['dilations']) is int:\n",
    "            self.dilations = [2 ** i for i in range(0, self.config['model']['dilations'] + 1)]\n",
    "        elif type(self.config['model']['dilations']) is list:\n",
    "            self.dilations = self.config['model']['dilations']\n",
    "\n",
    "        self.receptive_field_length = util.compute_receptive_field_length(config['model']['num_stacks'], self.dilations, config['model']['filters']['lengths']['res'], 1)\n",
    "\n",
    "        if input_length is not None:\n",
    "            self.input_length = int(input_length)\n",
    "            self.target_field_length = int(self.input_length - (self.receptive_field_length - 1))\n",
    "        if target_field_length is not None:\n",
    "            self.target_field_length = int(target_field_length)\n",
    "            self.input_length = int(self.receptive_field_length + (self.target_field_length - 1))\n",
    "        else:\n",
    "            self.target_field_length = int(config['model']['target_field_length'])\n",
    "            self.input_length = int(self.receptive_field_length + (self.target_field_length - 1))\n",
    "\n",
    "        self.target_padding = config['model']['target_padding']\n",
    "        self.padded_target_field_length = self.target_field_length + 2 * self.target_padding\n",
    "        self.half_target_field_length = int(self.target_field_length / 2)\n",
    "        self.half_receptive_field_length = int(self.receptive_field_length / 2)\n",
    "        self.num_residual_blocks = len(self.dilations) * self.num_stacks\n",
    "\n",
    "        self.config['model']['num_residual_blocks'] = self.num_residual_blocks\n",
    "        self.config['model']['receptive_field_length'] = self.receptive_field_length\n",
    "        self.config['model']['input_length'] = self.input_length\n",
    "        self.config['model']['target_field_length'] = self.target_field_length\n",
    "        \n",
    "        # Layers in the model\n",
    "        self.conv1 = nn.Conv1d(1, self.config['model']['filters']['depths']['res'], self.config['model']['filters']['lengths']['res'], stride=1, bias = False, padding=1)\n",
    "        \n",
    "        self.conv2 = nn.Conv1d(self.config['model']['filters']['depths']['res'], self.config['model']['filters']['depths']['final'][0], self.config['model']['filters']['lengths']['final'][0], stride=1, bias = False, padding=1)\n",
    "        \n",
    "        self.conv3 = nn.Conv1d(self.config['model']['filters']['depths']['final'][0], self.config['model']['filters']['depths']['final'][1], self.config['model']['filters']['lengths']['final'][1], stride=1, bias = False, padding=1)\n",
    "        \n",
    "        self.conv4 = nn.Conv1d(self.config['model']['filters']['depths']['final'][1], 1, 1, stride=1, bias = False, padding=0)\n",
    "        \n",
    "        self.dilated_layers = nn.ModuleList([dilated_residual_block(dilation, self.input_length, self.padded_target_field_length, self.config) for dilation in self.dilations])\n",
    "\n",
    "\n",
    "    def get_target_field_indices(self):\n",
    "\n",
    "        target_sample_index = self.get_target_sample_index()\n",
    "\n",
    "        return range(target_sample_index - self.half_target_field_length,\n",
    "                     target_sample_index + self.half_target_field_length + 1)\n",
    "\n",
    "    def get_padded_target_field_indices(self):\n",
    "\n",
    "        target_sample_index = self.get_target_sample_index()\n",
    "\n",
    "        return range(target_sample_index - self.half_target_field_length - self.target_padding,\n",
    "                     target_sample_index + self.half_target_field_length + self.target_padding + 1)\n",
    "\n",
    "    def get_target_sample_index(self):\n",
    "        return int(np.floor(self.input_length / 2.0))\n",
    "\n",
    "    def get_condition_input_length(self, representation):\n",
    "\n",
    "        if representation == 'binary':\n",
    "            return int(np.ceil(np.log2(self.num_condition_classes)))\n",
    "        else:\n",
    "            return self.num_condition_classes\n",
    "\n",
    "    def forward(self, x):\n",
    "\n",
    "        data_input = x#['data_input']\n",
    "\n",
    "        data_expanded = layers.expand_dims(data_input, 1)\n",
    "        \n",
    "        data_out = self.conv1(data_expanded)\n",
    "\n",
    "        skip_connections = []\n",
    "        for _ in range(self.num_stacks):\n",
    "            for layer in self.dilated_layers:\n",
    "                data_out, skip_out = layer(data_out)\n",
    "                if skip_out is not None:\n",
    "                    skip_connections.append(skip_out)\n",
    "\n",
    "        data_out = torch.stack( skip_connections, dim = 0).sum(dim = 0)\n",
    "        data_out = F.relu(data_out)\n",
    "\n",
    "        data_out = self.conv2(data_out)\n",
    "\n",
    "        data_out = F.relu(data_out)\n",
    "        \n",
    "        data_out = self.conv3(data_out)\n",
    "\n",
    "        data_out = self.conv4(data_out)\n",
    "\n",
    "        data_out_speech = data_out\n",
    "        data_out_noise = data_input - data_out_speech\n",
    "\n",
    "        data_out_speech = data_out_speech.squeeze_(1)\n",
    "\n",
    "        data_out_noise = data_out_noise.squeeze_(1)\n",
    "\n",
    "        return data_out_speech#, data_out_noise"
   ]
  },
  {
   "cell_type": "code",
   "execution_count": 9,
   "metadata": {
    "ExecuteTime": {
     "end_time": "2021-02-11T16:52:12.492946Z",
     "start_time": "2021-02-11T16:52:12.460095Z"
    }
   },
   "outputs": [],
   "source": [
    "dw = DenoisingWavenet(config)"
   ]
  },
  {
   "cell_type": "code",
   "execution_count": 10,
   "metadata": {
    "ExecuteTime": {
     "end_time": "2021-02-11T16:52:13.983262Z",
     "start_time": "2021-02-11T16:52:12.764072Z"
    },
    "scrolled": true
   },
   "outputs": [
    {
     "data": {
      "text/plain": [
       "DenoisingWavenet(\n",
       "  (conv1): Conv1d(1, 128, kernel_size=(3,), stride=(1,), padding=(1,), bias=False)\n",
       "  (conv2): Conv1d(128, 2048, kernel_size=(3,), stride=(1,), padding=(1,), bias=False)\n",
       "  (conv3): Conv1d(2048, 256, kernel_size=(3,), stride=(1,), padding=(1,), bias=False)\n",
       "  (conv4): Conv1d(256, 1, kernel_size=(1,), stride=(1,), bias=False)\n",
       "  (dilated_layers): ModuleList(\n",
       "    (0): dilated_residual_block(\n",
       "      (conv1): Conv1d(128, 256, kernel_size=(3,), stride=(1,), padding=(1,), bias=False)\n",
       "      (conv2): Conv1d(128, 256, kernel_size=(1,), stride=(1,), bias=False)\n",
       "    )\n",
       "    (1): dilated_residual_block(\n",
       "      (conv1): Conv1d(128, 256, kernel_size=(3,), stride=(1,), padding=(2,), dilation=(2,), bias=False)\n",
       "      (conv2): Conv1d(128, 256, kernel_size=(1,), stride=(1,), bias=False)\n",
       "    )\n",
       "    (2): dilated_residual_block(\n",
       "      (conv1): Conv1d(128, 256, kernel_size=(3,), stride=(1,), padding=(4,), dilation=(4,), bias=False)\n",
       "      (conv2): Conv1d(128, 256, kernel_size=(1,), stride=(1,), bias=False)\n",
       "    )\n",
       "    (3): dilated_residual_block(\n",
       "      (conv1): Conv1d(128, 256, kernel_size=(3,), stride=(1,), padding=(8,), dilation=(8,), bias=False)\n",
       "      (conv2): Conv1d(128, 256, kernel_size=(1,), stride=(1,), bias=False)\n",
       "    )\n",
       "    (4): dilated_residual_block(\n",
       "      (conv1): Conv1d(128, 256, kernel_size=(3,), stride=(1,), padding=(16,), dilation=(16,), bias=False)\n",
       "      (conv2): Conv1d(128, 256, kernel_size=(1,), stride=(1,), bias=False)\n",
       "    )\n",
       "    (5): dilated_residual_block(\n",
       "      (conv1): Conv1d(128, 256, kernel_size=(3,), stride=(1,), padding=(32,), dilation=(32,), bias=False)\n",
       "      (conv2): Conv1d(128, 256, kernel_size=(1,), stride=(1,), bias=False)\n",
       "    )\n",
       "    (6): dilated_residual_block(\n",
       "      (conv1): Conv1d(128, 256, kernel_size=(3,), stride=(1,), padding=(64,), dilation=(64,), bias=False)\n",
       "      (conv2): Conv1d(128, 256, kernel_size=(1,), stride=(1,), bias=False)\n",
       "    )\n",
       "  )\n",
       ")"
      ]
     },
     "execution_count": 10,
     "metadata": {},
     "output_type": "execute_result"
    }
   ],
   "source": [
    "dw.to(dev)"
   ]
  },
  {
   "cell_type": "code",
   "execution_count": 11,
   "metadata": {
    "ExecuteTime": {
     "end_time": "2021-02-11T16:52:15.148827Z",
     "start_time": "2021-02-11T16:52:14.500534Z"
    },
    "scrolled": true
   },
   "outputs": [
    {
     "name": "stdout",
     "output_type": "stream",
     "text": [
      "----------------------------------------------------------------\n",
      "        Layer (type)               Output Shape         Param #\n",
      "================================================================\n",
      "            Conv1d-1           [-1, 128, 30000]             384\n",
      "            Conv1d-2           [-1, 256, 30000]          98,304\n",
      "            Conv1d-3           [-1, 256, 30000]          32,768\n",
      "dilated_residual_block-4  [[-1, 128, 30000], [-1, 128, 30000]]               0\n",
      "            Conv1d-5           [-1, 256, 30000]          98,304\n",
      "            Conv1d-6           [-1, 256, 30000]          32,768\n",
      "dilated_residual_block-7  [[-1, 128, 30000], [-1, 128, 30000]]               0\n",
      "            Conv1d-8           [-1, 256, 30000]          98,304\n",
      "            Conv1d-9           [-1, 256, 30000]          32,768\n",
      "dilated_residual_block-10  [[-1, 128, 30000], [-1, 128, 30000]]               0\n",
      "           Conv1d-11           [-1, 256, 30000]          98,304\n",
      "           Conv1d-12           [-1, 256, 30000]          32,768\n",
      "dilated_residual_block-13  [[-1, 128, 30000], [-1, 128, 30000]]               0\n",
      "           Conv1d-14           [-1, 256, 30000]          98,304\n",
      "           Conv1d-15           [-1, 256, 30000]          32,768\n",
      "dilated_residual_block-16  [[-1, 128, 30000], [-1, 128, 30000]]               0\n",
      "           Conv1d-17           [-1, 256, 30000]          98,304\n",
      "           Conv1d-18           [-1, 256, 30000]          32,768\n",
      "dilated_residual_block-19  [[-1, 128, 30000], [-1, 128, 30000]]               0\n",
      "           Conv1d-20           [-1, 256, 30000]          98,304\n",
      "           Conv1d-21           [-1, 256, 30000]          32,768\n",
      "dilated_residual_block-22  [[-1, 128, 30000], [-1, 128, 30000]]               0\n",
      "           Conv1d-23           [-1, 256, 30000]          98,304\n",
      "           Conv1d-24           [-1, 256, 30000]          32,768\n",
      "dilated_residual_block-25  [[-1, 128, 30000], [-1, 128, 30000]]               0\n",
      "           Conv1d-26           [-1, 256, 30000]          98,304\n",
      "           Conv1d-27           [-1, 256, 30000]          32,768\n",
      "dilated_residual_block-28  [[-1, 128, 30000], [-1, 128, 30000]]               0\n",
      "           Conv1d-29           [-1, 256, 30000]          98,304\n",
      "           Conv1d-30           [-1, 256, 30000]          32,768\n",
      "dilated_residual_block-31  [[-1, 128, 30000], [-1, 128, 30000]]               0\n",
      "           Conv1d-32           [-1, 256, 30000]          98,304\n",
      "           Conv1d-33           [-1, 256, 30000]          32,768\n",
      "dilated_residual_block-34  [[-1, 128, 30000], [-1, 128, 30000]]               0\n",
      "           Conv1d-35           [-1, 256, 30000]          98,304\n",
      "           Conv1d-36           [-1, 256, 30000]          32,768\n",
      "dilated_residual_block-37  [[-1, 128, 30000], [-1, 128, 30000]]               0\n",
      "           Conv1d-38           [-1, 256, 30000]          98,304\n",
      "           Conv1d-39           [-1, 256, 30000]          32,768\n",
      "dilated_residual_block-40  [[-1, 128, 30000], [-1, 128, 30000]]               0\n",
      "           Conv1d-41           [-1, 256, 30000]          98,304\n",
      "           Conv1d-42           [-1, 256, 30000]          32,768\n",
      "dilated_residual_block-43  [[-1, 128, 30000], [-1, 128, 30000]]               0\n",
      "           Conv1d-44          [-1, 2048, 30000]         786,432\n",
      "           Conv1d-45           [-1, 256, 30000]       1,572,864\n",
      "           Conv1d-46             [-1, 1, 30000]             256\n",
      "================================================================\n",
      "Total params: 4,194,944\n",
      "Trainable params: 4,194,944\n",
      "Non-trainable params: 0\n",
      "----------------------------------------------------------------\n",
      "Input size (MB): 0.11\n",
      "Forward/backward pass size (MB): 3882.51\n",
      "Params size (MB): 16.00\n",
      "Estimated Total Size (MB): 3898.62\n",
      "----------------------------------------------------------------\n"
     ]
    },
    {
     "name": "stderr",
     "output_type": "stream",
     "text": [
      "E:\\Users\\alex\\anaconda3\\envs\\mil\\lib\\site-packages\\torchsummary\\torchsummary.py:93: RuntimeWarning: overflow encountered in long_scalars\n",
      "  total_output += np.prod(summary[layer][\"output_shape\"])\n"
     ]
    }
   ],
   "source": [
    "summary(dw, (30000,))"
   ]
  },
  {
   "cell_type": "code",
   "execution_count": 157,
   "metadata": {
    "ExecuteTime": {
     "end_time": "2021-02-11T20:43:34.342935Z",
     "start_time": "2021-02-11T20:43:34.327426Z"
    }
   },
   "outputs": [
    {
     "data": {
      "text/plain": [
       "(torch.Size([19968, 1]), 8000)"
      ]
     },
     "execution_count": 157,
     "metadata": {},
     "output_type": "execute_result"
    }
   ],
   "source": [
    "waveform, sample_rate = torchaudio.load(\"wav.wav\")\n",
    "waveform = waveform[:1, :]\n",
    "waveform = waveform.narrow(1, 0, 19968).T#.view(2,-1,1)#.squeeze()\n",
    "waveform.shape, sample_rate"
   ]
  },
  {
   "cell_type": "code",
   "execution_count": 158,
   "metadata": {
    "ExecuteTime": {
     "end_time": "2021-02-11T20:43:36.873721Z",
     "start_time": "2021-02-11T20:43:36.855719Z"
    }
   },
   "outputs": [
    {
     "data": {
      "text/plain": [
       "(torch.Size([257, 157]), 40349)"
      ]
     },
     "execution_count": 158,
     "metadata": {},
     "output_type": "execute_result"
    }
   ],
   "source": [
    "inter = torch.stft(waveform.squeeze(), n_fft=512, return_complex=True)\n",
    "inter.shape, inter.shape[0]*inter.shape[1]"
   ]
  },
  {
   "cell_type": "code",
   "execution_count": 32,
   "metadata": {
    "ExecuteTime": {
     "end_time": "2021-02-11T20:06:53.846453Z",
     "start_time": "2021-02-11T20:06:53.829453Z"
    }
   },
   "outputs": [
    {
     "data": {
      "text/plain": [
       "torch.Size([19968])"
      ]
     },
     "execution_count": 32,
     "metadata": {},
     "output_type": "execute_result"
    }
   ],
   "source": [
    "waveform.squeeze().shape"
   ]
  },
  {
   "cell_type": "code",
   "execution_count": 45,
   "metadata": {
    "ExecuteTime": {
     "end_time": "2021-02-11T20:08:13.516039Z",
     "start_time": "2021-02-11T20:08:13.509529Z"
    }
   },
   "outputs": [
    {
     "data": {
      "text/plain": [
       "torch.Size([19968, 1])"
      ]
     },
     "execution_count": 45,
     "metadata": {},
     "output_type": "execute_result"
    }
   ],
   "source": [
    "waveform.shape"
   ]
  },
  {
   "cell_type": "code",
   "execution_count": 34,
   "metadata": {
    "ExecuteTime": {
     "end_time": "2021-02-11T20:06:57.851860Z",
     "start_time": "2021-02-11T20:06:57.637769Z"
    }
   },
   "outputs": [
    {
     "ename": "IndexError",
     "evalue": "index 2 is out of bounds for dimension 1 with size 1",
     "output_type": "error",
     "traceback": [
      "\u001b[1;31m---------------------------------------------------------------------------\u001b[0m",
      "\u001b[1;31mIndexError\u001b[0m                                Traceback (most recent call last)",
      "\u001b[1;32m<ipython-input-34-8c07fe264289>\u001b[0m in \u001b[0;36m<module>\u001b[1;34m\u001b[0m\n\u001b[1;32m----> 1\u001b[1;33m \u001b[0mwaveform\u001b[0m\u001b[1;33m[\u001b[0m\u001b[1;33m(\u001b[0m\u001b[1;36m0\u001b[0m\u001b[1;33m,\u001b[0m \u001b[1;36m1\u001b[0m\u001b[1;33m)\u001b[0m\u001b[1;33m,\u001b[0m \u001b[1;33m(\u001b[0m\u001b[1;36m0\u001b[0m\u001b[1;33m,\u001b[0m \u001b[1;36m2\u001b[0m\u001b[1;33m)\u001b[0m\u001b[1;33m]\u001b[0m\u001b[1;33m\u001b[0m\u001b[1;33m\u001b[0m\u001b[0m\n\u001b[0m",
      "\u001b[1;31mIndexError\u001b[0m: index 2 is out of bounds for dimension 1 with size 1"
     ]
    }
   ],
   "source": [
    "waveform[(0, 1), (0, 2)]"
   ]
  },
  {
   "cell_type": "code",
   "execution_count": 127,
   "metadata": {
    "ExecuteTime": {
     "end_time": "2021-02-11T20:34:31.822708Z",
     "start_time": "2021-02-11T20:34:31.806678Z"
    }
   },
   "outputs": [
    {
     "data": {
      "text/plain": [
       "torch.Size([257, 157])"
      ]
     },
     "execution_count": 127,
     "metadata": {},
     "output_type": "execute_result"
    }
   ],
   "source": [
    "# ll = [(np.random.randint(0, inter.shape[0]), np.random.randint(0, inter.shape[1])) for i in range(5000)]\n",
    "# inter[list(zip(*ll))] = 0\n",
    "ll = torch.randint(inter.shape[1], (2, 100))\n",
    "inter[ll] = 0\n",
    "waveform_n = torch.istft(inter, n_fft=512)\n",
    "inter.shape"
   ]
  },
  {
   "cell_type": "code",
   "execution_count": 162,
   "metadata": {
    "ExecuteTime": {
     "end_time": "2021-02-11T20:50:36.581671Z",
     "start_time": "2021-02-11T20:50:36.568650Z"
    }
   },
   "outputs": [
    {
     "data": {
      "text/plain": [
       "torch.Size([257, 157])"
      ]
     },
     "execution_count": 162,
     "metadata": {},
     "output_type": "execute_result"
    }
   ],
   "source": [
    "bb = torch.randint(inter.shape[0], (1, 100))\n",
    "ll = torch.randint(inter.shape[1], (1, 100))\n",
    "ll = torch.cat((bb, ll))\n",
    "ll.numpy()\n",
    "inter[ll] = 0\n",
    "waveform_n = torch.istft(inter, n_fft=512)\n",
    "inter.shape"
   ]
  },
  {
   "cell_type": "code",
   "execution_count": 52,
   "metadata": {
    "ExecuteTime": {
     "end_time": "2021-02-11T20:09:16.533529Z",
     "start_time": "2021-02-11T20:09:15.357367Z"
    }
   },
   "outputs": [],
   "source": [
    "for i in range(50000):\n",
    "    i, j = np.random.randint(0, inter.shape[0]), np.random.randint(0, inter.shape[1])\n",
    "    inter[i, j] = 0\n",
    "waveform_n = torch.istft(inter, n_fft=512)"
   ]
  },
  {
   "cell_type": "code",
   "execution_count": 96,
   "metadata": {
    "ExecuteTime": {
     "end_time": "2021-02-11T17:20:07.744078Z",
     "start_time": "2021-02-11T17:20:07.731386Z"
    }
   },
   "outputs": [],
   "source": [
    "# noise = np.random.normal(0, 0.01, waveform.shape)\n",
    "# waveform = waveform+noise"
   ]
  },
  {
   "cell_type": "code",
   "execution_count": 161,
   "metadata": {
    "ExecuteTime": {
     "end_time": "2021-02-11T20:43:45.940859Z",
     "start_time": "2021-02-11T20:43:45.934329Z"
    }
   },
   "outputs": [
    {
     "data": {
      "text/html": [
       "\n",
       "                <audio  controls=\"controls\" >\n",
       "                    <source src=\"data:audio/wav;base64,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\" type=\"audio/wav\" />\n",
       "                    Your browser does not support the audio element.\n",
       "                </audio>\n",
       "              "
      ],
      "text/plain": [
       "<IPython.lib.display.Audio object>"
      ]
     },
     "metadata": {},
     "output_type": "display_data"
    }
   ],
   "source": [
    "display(ipd.Audio(waveform_n.T, rate=sample_rate));"
   ]
  },
  {
   "cell_type": "code",
   "execution_count": 58,
   "metadata": {
    "ExecuteTime": {
     "end_time": "2021-02-11T20:09:42.784125Z",
     "start_time": "2021-02-11T20:09:42.774525Z"
    }
   },
   "outputs": [
    {
     "data": {
      "text/plain": [
       "torch.Size([19968])"
      ]
     },
     "execution_count": 58,
     "metadata": {},
     "output_type": "execute_result"
    }
   ],
   "source": [
    "waveform_n.shape"
   ]
  },
  {
   "cell_type": "code",
   "execution_count": 160,
   "metadata": {
    "ExecuteTime": {
     "end_time": "2021-02-11T20:43:43.238282Z",
     "start_time": "2021-02-11T20:43:42.768223Z"
    }
   },
   "outputs": [
    {
     "data": {
      "text/plain": [
       "[<matplotlib.lines.Line2D at 0x21ed02756a0>]"
      ]
     },
     "execution_count": 160,
     "metadata": {},
     "output_type": "execute_result"
    },
    {
     "data": {
      "image/png": "[encoded data removed]",
      "text/plain": [
       "<Figure size 1080x720 with 1 Axes>"
      ]
     },
     "metadata": {
      "needs_background": "light"
     },
     "output_type": "display_data"
    }
   ],
   "source": [
    "pylab.figure(figsize=(15, 10))\n",
    "\n",
    "pylab.plot(waveform.squeeze())\n",
    "\n",
    "# pylab.plot(y.cpu().detach().numpy().squeeze())\n",
    "# pylab.plot(x.cpu().detach().numpy().squeeze())\n",
    "pylab.plot(waveform_n.squeeze())"
   ]
  },
  {
   "cell_type": "code",
   "execution_count": 58,
   "metadata": {
    "ExecuteTime": {
     "end_time": "2021-02-11T17:15:24.378460Z",
     "start_time": "2021-02-11T17:15:24.341461Z"
    }
   },
   "outputs": [],
   "source": [
    "model = DenoisingWavenet(config).to(dev)\n",
    "optimizer = optim.Adam(model.parameters())\n",
    "loss_fn = nn.L1Loss()"
   ]
  },
  {
   "cell_type": "code",
   "execution_count": 99,
   "metadata": {
    "ExecuteTime": {
     "end_time": "2021-02-11T17:20:46.616302Z",
     "start_time": "2021-02-11T17:20:24.282707Z"
    }
   },
   "outputs": [
    {
     "name": "stderr",
     "output_type": "stream",
     "text": [
      "E:\\Users\\alex\\anaconda3\\envs\\mil\\lib\\site-packages\\ipykernel_launcher.py:3: UserWarning: To copy construct from a tensor, it is recommended to use sourceTensor.clone().detach() or sourceTensor.clone().detach().requires_grad_(True), rather than torch.tensor(sourceTensor).\n",
      "  This is separate from the ipykernel package so we can avoid doing imports until\n",
      "  0%|                                                                                           | 0/49 [00:00<?, ?it/s]"
     ]
    },
    {
     "name": "stdout",
     "output_type": "stream",
     "text": [
      "0\r",
      "1\r"
     ]
    },
    {
     "name": "stderr",
     "output_type": "stream",
     "text": [
      "\r",
      "  2%|█▋                                                                                 | 1/49 [00:00<00:21,  2.20it/s]"
     ]
    },
    {
     "name": "stdout",
     "output_type": "stream",
     "text": [
      "Epoch - 1 Train-Loss : 0.1084309071302414\n",
      "0\r",
      "1\r"
     ]
    },
    {
     "name": "stderr",
     "output_type": "stream",
     "text": [
      "\r",
      "  4%|███▍                                                                               | 2/49 [00:00<00:20,  2.26it/s]"
     ]
    },
    {
     "name": "stdout",
     "output_type": "stream",
     "text": [
      "Epoch - 2 Train-Loss : 0.06833219528198242\n",
      "0\r",
      "1\r"
     ]
    },
    {
     "name": "stderr",
     "output_type": "stream",
     "text": [
      "\r",
      "  6%|█████                                                                              | 3/49 [00:01<00:19,  2.31it/s]"
     ]
    },
    {
     "name": "stdout",
     "output_type": "stream",
     "text": [
      "Epoch - 3 Train-Loss : 0.060251250863075256\n",
      "0\r",
      "1\r"
     ]
    },
    {
     "name": "stderr",
     "output_type": "stream",
     "text": [
      "\r",
      "  8%|██████▊                                                                            | 4/49 [00:01<00:19,  2.33it/s]"
     ]
    },
    {
     "name": "stdout",
     "output_type": "stream",
     "text": [
      "Epoch - 4 Train-Loss : 0.05638927221298218\n",
      "0\r",
      "1\r"
     ]
    },
    {
     "name": "stderr",
     "output_type": "stream",
     "text": [
      "\r",
      " 10%|████████▍                                                                          | 5/49 [00:02<00:18,  2.34it/s]"
     ]
    },
    {
     "name": "stdout",
     "output_type": "stream",
     "text": [
      "Epoch - 5 Train-Loss : 0.05241779610514641\n",
      "0\r",
      "1\r"
     ]
    },
    {
     "name": "stderr",
     "output_type": "stream",
     "text": [
      "\r",
      " 12%|██████████▏                                                                        | 6/49 [00:02<00:18,  2.34it/s]"
     ]
    },
    {
     "name": "stdout",
     "output_type": "stream",
     "text": [
      "Epoch - 6 Train-Loss : 0.04981228709220886\n",
      "0\r",
      "1\r"
     ]
    },
    {
     "name": "stderr",
     "output_type": "stream",
     "text": [
      "\r",
      " 14%|███████████▊                                                                       | 7/49 [00:03<00:17,  2.35it/s]"
     ]
    },
    {
     "name": "stdout",
     "output_type": "stream",
     "text": [
      "Epoch - 7 Train-Loss : 0.04712295159697533\n",
      "0\r",
      "1\r"
     ]
    },
    {
     "name": "stderr",
     "output_type": "stream",
     "text": [
      "\r",
      " 16%|█████████████▌                                                                     | 8/49 [00:03<00:17,  2.35it/s]"
     ]
    },
    {
     "name": "stdout",
     "output_type": "stream",
     "text": [
      "Epoch - 8 Train-Loss : 0.0440281480550766\n",
      "0\r",
      "1\r"
     ]
    },
    {
     "name": "stderr",
     "output_type": "stream",
     "text": [
      "\r",
      " 18%|███████████████▏                                                                   | 9/49 [00:03<00:17,  2.35it/s]"
     ]
    },
    {
     "name": "stdout",
     "output_type": "stream",
     "text": [
      "Epoch - 9 Train-Loss : 0.04051283001899719\n",
      "0\r",
      "1\r"
     ]
    },
    {
     "name": "stderr",
     "output_type": "stream",
     "text": [
      "\r",
      " 20%|████████████████▋                                                                 | 10/49 [00:04<00:16,  2.33it/s]"
     ]
    },
    {
     "name": "stdout",
     "output_type": "stream",
     "text": [
      "Epoch - 10 Train-Loss : 0.037587106227874756\n",
      "0\r",
      "1\r"
     ]
    },
    {
     "name": "stderr",
     "output_type": "stream",
     "text": [
      "\r",
      " 22%|██████████████████▍                                                               | 11/49 [00:04<00:16,  2.33it/s]"
     ]
    },
    {
     "name": "stdout",
     "output_type": "stream",
     "text": [
      "Epoch - 11 Train-Loss : 0.034180596470832825\n",
      "0\r",
      "1\r"
     ]
    },
    {
     "name": "stderr",
     "output_type": "stream",
     "text": [
      "\r",
      " 24%|████████████████████                                                              | 12/49 [00:05<00:15,  2.34it/s]"
     ]
    },
    {
     "name": "stdout",
     "output_type": "stream",
     "text": [
      "Epoch - 12 Train-Loss : 0.032248273491859436\n",
      "0\r",
      "1\r"
     ]
    },
    {
     "name": "stderr",
     "output_type": "stream",
     "text": [
      "\r",
      " 27%|█████████████████████▊                                                            | 13/49 [00:05<00:15,  2.34it/s]"
     ]
    },
    {
     "name": "stdout",
     "output_type": "stream",
     "text": [
      "Epoch - 13 Train-Loss : 0.031932730227708817\n",
      "0\r",
      "1\r"
     ]
    },
    {
     "name": "stderr",
     "output_type": "stream",
     "text": [
      "\r",
      " 29%|███████████████████████▍                                                          | 14/49 [00:06<00:15,  2.33it/s]"
     ]
    },
    {
     "name": "stdout",
     "output_type": "stream",
     "text": [
      "Epoch - 14 Train-Loss : 0.02910778485238552\n",
      "0\r",
      "1\r"
     ]
    },
    {
     "name": "stderr",
     "output_type": "stream",
     "text": [
      "\r",
      " 31%|█████████████████████████                                                         | 15/49 [00:06<00:14,  2.32it/s]"
     ]
    },
    {
     "name": "stdout",
     "output_type": "stream",
     "text": [
      "Epoch - 15 Train-Loss : 0.026092231273651123\n",
      "0\r",
      "1\r"
     ]
    },
    {
     "name": "stderr",
     "output_type": "stream",
     "text": [
      "\r",
      " 33%|██████████████████████████▊                                                       | 16/49 [00:06<00:14,  2.32it/s]"
     ]
    },
    {
     "name": "stdout",
     "output_type": "stream",
     "text": [
      "Epoch - 16 Train-Loss : 0.02544746920466423\n",
      "0\r",
      "1\r"
     ]
    },
    {
     "name": "stderr",
     "output_type": "stream",
     "text": [
      "\r",
      " 35%|████████████████████████████▍                                                     | 17/49 [00:07<00:13,  2.32it/s]"
     ]
    },
    {
     "name": "stdout",
     "output_type": "stream",
     "text": [
      "Epoch - 17 Train-Loss : 0.025244921445846558\n",
      "0\r",
      "1\r"
     ]
    },
    {
     "name": "stderr",
     "output_type": "stream",
     "text": [
      "\r",
      " 37%|██████████████████████████████                                                    | 18/49 [00:07<00:13,  2.32it/s]"
     ]
    },
    {
     "name": "stdout",
     "output_type": "stream",
     "text": [
      "Epoch - 18 Train-Loss : 0.024313319474458694\n",
      "0\r",
      "1\r"
     ]
    },
    {
     "name": "stderr",
     "output_type": "stream",
     "text": [
      "\r",
      " 39%|███████████████████████████████▊                                                  | 19/49 [00:08<00:12,  2.32it/s]"
     ]
    },
    {
     "name": "stdout",
     "output_type": "stream",
     "text": [
      "Epoch - 19 Train-Loss : 0.02287425845861435\n",
      "0\r",
      "1\r"
     ]
    },
    {
     "name": "stderr",
     "output_type": "stream",
     "text": [
      "\r",
      " 41%|█████████████████████████████████▍                                                | 20/49 [00:08<00:12,  2.32it/s]"
     ]
    },
    {
     "name": "stdout",
     "output_type": "stream",
     "text": [
      "Epoch - 20 Train-Loss : 0.022803014144301414\n",
      "0\r",
      "1\r"
     ]
    },
    {
     "name": "stderr",
     "output_type": "stream",
     "text": [
      "\r",
      " 43%|███████████████████████████████████▏                                              | 21/49 [00:09<00:12,  2.32it/s]"
     ]
    },
    {
     "name": "stdout",
     "output_type": "stream",
     "text": [
      "Epoch - 21 Train-Loss : 0.021036142483353615\n",
      "0\r",
      "1\r"
     ]
    },
    {
     "name": "stderr",
     "output_type": "stream",
     "text": [
      "\r",
      " 45%|████████████████████████████████████▊                                             | 22/49 [00:09<00:11,  2.32it/s]"
     ]
    },
    {
     "name": "stdout",
     "output_type": "stream",
     "text": [
      "Epoch - 22 Train-Loss : 0.022978268563747406\n",
      "0\r",
      "1\r"
     ]
    },
    {
     "name": "stderr",
     "output_type": "stream",
     "text": [
      "\r",
      " 47%|██████████████████████████████████████▍                                           | 23/49 [00:09<00:11,  2.31it/s]"
     ]
    },
    {
     "name": "stdout",
     "output_type": "stream",
     "text": [
      "Epoch - 23 Train-Loss : 0.021320197731256485\n",
      "0\r",
      "1\r"
     ]
    },
    {
     "name": "stderr",
     "output_type": "stream",
     "text": [
      "\r",
      " 49%|████████████████████████████████████████▏                                         | 24/49 [00:10<00:10,  2.32it/s]"
     ]
    },
    {
     "name": "stdout",
     "output_type": "stream",
     "text": [
      "Epoch - 24 Train-Loss : 0.019626008346676826\n",
      "0\r",
      "1\r"
     ]
    },
    {
     "name": "stderr",
     "output_type": "stream",
     "text": [
      "\r",
      " 51%|█████████████████████████████████████████▊                                        | 25/49 [00:10<00:10,  2.31it/s]"
     ]
    },
    {
     "name": "stdout",
     "output_type": "stream",
     "text": [
      "Epoch - 25 Train-Loss : 0.01905164122581482\n",
      "0\r",
      "1\r"
     ]
    },
    {
     "name": "stderr",
     "output_type": "stream",
     "text": [
      "\r",
      " 53%|███████████████████████████████████████████▌                                      | 26/49 [00:11<00:09,  2.32it/s]"
     ]
    },
    {
     "name": "stdout",
     "output_type": "stream",
     "text": [
      "Epoch - 26 Train-Loss : 0.018326973542571068\n",
      "0\r",
      "1\r"
     ]
    },
    {
     "name": "stderr",
     "output_type": "stream",
     "text": [
      "\r",
      " 55%|█████████████████████████████████████████████▏                                    | 27/49 [00:11<00:09,  2.31it/s]"
     ]
    },
    {
     "name": "stdout",
     "output_type": "stream",
     "text": [
      "Epoch - 27 Train-Loss : 0.015911953523755074\n",
      "0\r",
      "1\r"
     ]
    },
    {
     "name": "stderr",
     "output_type": "stream",
     "text": [
      "\r",
      " 57%|██████████████████████████████████████████████▊                                   | 28/49 [00:12<00:09,  2.31it/s]"
     ]
    },
    {
     "name": "stdout",
     "output_type": "stream",
     "text": [
      "Epoch - 28 Train-Loss : 0.01592579483985901\n",
      "0\r",
      "1\r"
     ]
    },
    {
     "name": "stderr",
     "output_type": "stream",
     "text": [
      "\r",
      " 59%|████████████████████████████████████████████████▌                                 | 29/49 [00:12<00:08,  2.31it/s]"
     ]
    },
    {
     "name": "stdout",
     "output_type": "stream",
     "text": [
      "Epoch - 29 Train-Loss : 0.01509173959493637\n",
      "0\r",
      "1\r"
     ]
    },
    {
     "name": "stderr",
     "output_type": "stream",
     "text": [
      "\r",
      " 61%|██████████████████████████████████████████████████▏                               | 30/49 [00:12<00:08,  2.31it/s]"
     ]
    },
    {
     "name": "stdout",
     "output_type": "stream",
     "text": [
      "Epoch - 30 Train-Loss : 0.013443971984088421\n",
      "0\r",
      "1\r"
     ]
    },
    {
     "name": "stderr",
     "output_type": "stream",
     "text": [
      "\r",
      " 63%|███████████████████████████████████████████████████▉                              | 31/49 [00:13<00:07,  2.31it/s]"
     ]
    },
    {
     "name": "stdout",
     "output_type": "stream",
     "text": [
      "Epoch - 31 Train-Loss : 0.013898961246013641\n",
      "0\r",
      "1\r"
     ]
    },
    {
     "name": "stderr",
     "output_type": "stream",
     "text": [
      "\r",
      " 65%|█████████████████████████████████████████████████████▌                            | 32/49 [00:13<00:07,  2.31it/s]"
     ]
    },
    {
     "name": "stdout",
     "output_type": "stream",
     "text": [
      "Epoch - 32 Train-Loss : 0.012274040840566158\n",
      "0\r",
      "1\r"
     ]
    },
    {
     "name": "stderr",
     "output_type": "stream",
     "text": [
      "\r",
      " 67%|███████████████████████████████████████████████████████▏                          | 33/49 [00:14<00:06,  2.31it/s]"
     ]
    },
    {
     "name": "stdout",
     "output_type": "stream",
     "text": [
      "Epoch - 33 Train-Loss : 0.01258392445743084\n",
      "0\r",
      "1\r"
     ]
    },
    {
     "name": "stderr",
     "output_type": "stream",
     "text": [
      "\r",
      " 69%|████████████████████████████████████████████████████████▉                         | 34/49 [00:14<00:06,  2.31it/s]"
     ]
    },
    {
     "name": "stdout",
     "output_type": "stream",
     "text": [
      "Epoch - 34 Train-Loss : 0.011238658800721169\n",
      "0\r",
      "1\r"
     ]
    },
    {
     "name": "stderr",
     "output_type": "stream",
     "text": [
      "\r",
      " 71%|██████████████████████████████████████████████████████████▌                       | 35/49 [00:15<00:06,  2.31it/s]"
     ]
    },
    {
     "name": "stdout",
     "output_type": "stream",
     "text": [
      "Epoch - 35 Train-Loss : 0.015756109729409218\n",
      "0\r",
      "1\r"
     ]
    },
    {
     "name": "stderr",
     "output_type": "stream",
     "text": [
      "\r",
      " 73%|████████████████████████████████████████████████████████████▏                     | 36/49 [00:15<00:05,  2.31it/s]"
     ]
    },
    {
     "name": "stdout",
     "output_type": "stream",
     "text": [
      "Epoch - 36 Train-Loss : 0.014579666778445244\n",
      "0\r",
      "1\r"
     ]
    },
    {
     "name": "stderr",
     "output_type": "stream",
     "text": [
      "\r",
      " 76%|█████████████████████████████████████████████████████████████▉                    | 37/49 [00:15<00:05,  2.31it/s]"
     ]
    },
    {
     "name": "stdout",
     "output_type": "stream",
     "text": [
      "Epoch - 37 Train-Loss : 0.015689484775066376\n",
      "0\r",
      "1\r"
     ]
    },
    {
     "name": "stderr",
     "output_type": "stream",
     "text": [
      "\r",
      " 78%|███████████████████████████████████████████████████████████████▌                  | 38/49 [00:16<00:04,  2.31it/s]"
     ]
    },
    {
     "name": "stdout",
     "output_type": "stream",
     "text": [
      "Epoch - 38 Train-Loss : 0.016239793971180916\n",
      "0\r",
      "1\r"
     ]
    },
    {
     "name": "stderr",
     "output_type": "stream",
     "text": [
      "\r",
      " 80%|█████████████████████████████████████████████████████████████████▎                | 39/49 [00:16<00:04,  2.31it/s]"
     ]
    },
    {
     "name": "stdout",
     "output_type": "stream",
     "text": [
      "Epoch - 39 Train-Loss : 0.015514789149165154\n",
      "0\r",
      "1\r"
     ]
    },
    {
     "name": "stderr",
     "output_type": "stream",
     "text": [
      "\r",
      " 82%|██████████████████████████████████████████████████████████████████▉               | 40/49 [00:17<00:03,  2.31it/s]"
     ]
    },
    {
     "name": "stdout",
     "output_type": "stream",
     "text": [
      "Epoch - 40 Train-Loss : 0.014464055188000202\n",
      "0\r",
      "1\r"
     ]
    },
    {
     "name": "stderr",
     "output_type": "stream",
     "text": [
      "\r",
      " 84%|████████████████████████████████████████████████████████████████████▌             | 41/49 [00:17<00:03,  2.31it/s]"
     ]
    },
    {
     "name": "stdout",
     "output_type": "stream",
     "text": [
      "Epoch - 41 Train-Loss : 0.013177366927266121\n",
      "0\r",
      "1\r"
     ]
    },
    {
     "name": "stderr",
     "output_type": "stream",
     "text": [
      "\r",
      " 86%|██████████████████████████████████████████████████████████████████████▎           | 42/49 [00:18<00:03,  2.30it/s]"
     ]
    },
    {
     "name": "stdout",
     "output_type": "stream",
     "text": [
      "Epoch - 42 Train-Loss : 0.01348946988582611\n",
      "0\r",
      "1\r"
     ]
    },
    {
     "name": "stderr",
     "output_type": "stream",
     "text": [
      "\r",
      " 88%|███████████████████████████████████████████████████████████████████████▉          | 43/49 [00:18<00:02,  2.30it/s]"
     ]
    },
    {
     "name": "stdout",
     "output_type": "stream",
     "text": [
      "Epoch - 43 Train-Loss : 0.014768024906516075\n",
      "0\r",
      "1\r"
     ]
    },
    {
     "name": "stderr",
     "output_type": "stream",
     "text": [
      "\r",
      " 90%|█████████████████████████████████████████████████████████████████████████▋        | 44/49 [00:18<00:02,  2.31it/s]"
     ]
    },
    {
     "name": "stdout",
     "output_type": "stream",
     "text": [
      "Epoch - 44 Train-Loss : 0.01720185950398445\n",
      "0\r",
      "1\r"
     ]
    },
    {
     "name": "stderr",
     "output_type": "stream",
     "text": [
      "\r",
      " 92%|███████████████████████████████████████████████████████████████████████████▎      | 45/49 [00:19<00:01,  2.30it/s]"
     ]
    },
    {
     "name": "stdout",
     "output_type": "stream",
     "text": [
      "Epoch - 45 Train-Loss : 0.014063604176044464\n",
      "0\r",
      "1\r"
     ]
    },
    {
     "name": "stderr",
     "output_type": "stream",
     "text": [
      "\r",
      " 94%|████████████████████████████████████████████████████████████████████████████▉     | 46/49 [00:19<00:01,  2.30it/s]"
     ]
    },
    {
     "name": "stdout",
     "output_type": "stream",
     "text": [
      "Epoch - 46 Train-Loss : 0.013630850240588188\n",
      "0\r",
      "1\r"
     ]
    },
    {
     "name": "stderr",
     "output_type": "stream",
     "text": [
      "\r",
      " 96%|██████████████████████████████████████████████████████████████████████████████▋   | 47/49 [00:20<00:00,  2.30it/s]"
     ]
    },
    {
     "name": "stdout",
     "output_type": "stream",
     "text": [
      "Epoch - 47 Train-Loss : 0.012732181698083878\n",
      "0\r",
      "1\r"
     ]
    },
    {
     "name": "stderr",
     "output_type": "stream",
     "text": [
      "\r",
      " 98%|████████████████████████████████████████████████████████████████████████████████▎ | 48/49 [00:20<00:00,  2.31it/s]"
     ]
    },
    {
     "name": "stdout",
     "output_type": "stream",
     "text": [
      "Epoch - 48 Train-Loss : 0.012037045322358608\n",
      "0\r",
      "1\r"
     ]
    },
    {
     "name": "stderr",
     "output_type": "stream",
     "text": [
      "100%|██████████████████████████████████████████████████████████████████████████████████| 49/49 [00:21<00:00,  2.32it/s]"
     ]
    },
    {
     "name": "stdout",
     "output_type": "stream",
     "text": [
      "Epoch - 49 Train-Loss : 0.011559538543224335\n"
     ]
    },
    {
     "name": "stderr",
     "output_type": "stream",
     "text": [
      "\n"
     ]
    }
   ],
   "source": [
    "waveform, sample_rate = torchaudio.load(\"wav.wav\")\n",
    "waveform = waveform[:1, :]\n",
    "waveform = torch.tensor(waveform.narrow(1, 0, 19968).T, dtype=torch.float32)\n",
    "# noise = np.array(np.random.normal(0, 0.01, waveform.shape), dtype=\"double\")\n",
    "# waveform_n = torch.tensor(waveform+noise, dtype=torch.float32)\n",
    "\n",
    "inter = torch.stft(waveform.squeeze(), n_fft=512, return_complex=True)\n",
    "inter.shape, inter.shape[0]*inter.shape[1]\n",
    "for i in range(50000):\n",
    "    i, j = np.random.randint(0, inter.shape[0]), np.random.randint(0, inter.shape[1])\n",
    "    inter[i, j] = 0\n",
    "waveform_n = torch.istft(inter, n_fft=512)\n",
    "\n",
    "train_losses = []\n",
    "\n",
    "for epoch in tqdm(range(1, 50)):\n",
    "    counter = 0\n",
    "    model.train()\n",
    "    batch_losses=[]\n",
    "    batch_metric=[]\n",
    "    data = waveform.view(1, -1)\n",
    "    data_n = waveform_n.view(1, -1)\n",
    "    while True:\n",
    "        print(counter, end='\\r')\n",
    "        x, y = torch.clone(data_n).to(dev), torch.clone(data).to(dev)\n",
    "        optimizer.zero_grad()\n",
    "#         x = dict(map(lambda i: (i[0], i[1].to(self.device, dtype=torch.float32)), x.items()))\n",
    "#         y = dict(map(lambda i: (i[0], i[1].to(self.device, dtype=torch.float32)), y.items()))\n",
    "        y_hat = model(x)\n",
    "        loss = loss_fn(y_hat, y)\n",
    "        loss.backward()\n",
    "        batch_losses.append(loss)\n",
    "        optimizer.step()\n",
    "        if counter >= 1:\n",
    "            break\n",
    "        counter += 1\n",
    "    train_losses.append(torch.stack(batch_losses, dim = 0).mean(dim = 0).detach().cpu().numpy())\n",
    "    print(f'Epoch - {epoch} Train-Loss : {train_losses[-1]}')\n",
    "    counter = 0"
   ]
  },
  {
   "cell_type": "code",
   "execution_count": 20,
   "metadata": {
    "ExecuteTime": {
     "end_time": "2021-02-11T16:43:52.412461Z",
     "start_time": "2021-02-11T16:43:52.396468Z"
    }
   },
   "outputs": [],
   "source": [
    "# del x, y\n",
    "# torch.cuda.empty_cache()"
   ]
  },
  {
   "cell_type": "code",
   "execution_count": 100,
   "metadata": {
    "ExecuteTime": {
     "end_time": "2021-02-11T17:21:19.719546Z",
     "start_time": "2021-02-11T17:21:19.678435Z"
    }
   },
   "outputs": [],
   "source": [
    "y = model(waveform_n.to(dev).unsqueeze(0)).squeeze()"
   ]
  },
  {
   "cell_type": "code",
   "execution_count": 101,
   "metadata": {
    "ExecuteTime": {
     "end_time": "2021-02-11T17:21:20.346356Z",
     "start_time": "2021-02-11T17:21:20.333326Z"
    }
   },
   "outputs": [
    {
     "data": {
      "text/html": [
       "\n",
       "                <audio  controls=\"controls\" >\n",
       "                    <source src=\"data:audio/wav;base64,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\" type=\"audio/wav\" />\n",
       "                    Your browser does not support the audio element.\n",
       "                </audio>\n",
       "              "
      ],
      "text/plain": [
       "<IPython.lib.display.Audio object>"
      ]
     },
     "metadata": {},
     "output_type": "display_data"
    }
   ],
   "source": [
    "display(ipd.Audio(x.cpu().squeeze(), rate=sample_rate));"
   ]
  },
  {
   "cell_type": "code",
   "execution_count": 102,
   "metadata": {
    "ExecuteTime": {
     "end_time": "2021-02-11T17:21:22.098539Z",
     "start_time": "2021-02-11T17:21:22.086470Z"
    }
   },
   "outputs": [
    {
     "data": {
      "text/html": [
       "\n",
       "                <audio  controls=\"controls\" >\n",
       "                    <source src=\"data:audio/wav;base64,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\" type=\"audio/wav\" />\n",
       "                    Your browser does not support the audio element.\n",
       "                </audio>\n",
       "              "
      ],
      "text/plain": [
       "<IPython.lib.display.Audio object>"
      ]
     },
     "metadata": {},
     "output_type": "display_data"
    }
   ],
   "source": [
    "display(ipd.Audio(y.cpu().detach().numpy(), rate=sample_rate));"
   ]
  },
  {
   "cell_type": "code",
   "execution_count": 107,
   "metadata": {
    "ExecuteTime": {
     "end_time": "2021-02-11T17:22:11.227514Z",
     "start_time": "2021-02-11T17:22:11.215277Z"
    }
   },
   "outputs": [
    {
     "data": {
      "text/html": [
       "\n",
       "                <audio  controls=\"controls\" >\n",
       "                    <source src=\"data:audio/wav;base64,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\" type=\"audio/wav\" />\n",
       "                    Your browser does not support the audio element.\n",
       "                </audio>\n",
       "              "
      ],
      "text/plain": [
       "<IPython.lib.display.Audio object>"
      ]
     },
     "metadata": {},
     "output_type": "display_data"
    }
   ],
   "source": [
    "display(ipd.Audio(waveform.T, rate=sample_rate));"
   ]
  },
  {
   "cell_type": "code",
   "execution_count": 104,
   "metadata": {
    "ExecuteTime": {
     "end_time": "2021-02-11T17:21:25.578691Z",
     "start_time": "2021-02-11T17:21:25.572690Z"
    }
   },
   "outputs": [],
   "source": [
    "nnn = y.cpu().detach().numpy()-x.cpu().squeeze().numpy()"
   ]
  },
  {
   "cell_type": "code",
   "execution_count": 105,
   "metadata": {
    "ExecuteTime": {
     "end_time": "2021-02-11T17:21:26.312053Z",
     "start_time": "2021-02-11T17:21:26.182717Z"
    }
   },
   "outputs": [
    {
     "data": {
      "text/plain": [
       "[<matplotlib.lines.Line2D at 0x236f2f90d68>]"
      ]
     },
     "execution_count": 105,
     "metadata": {},
     "output_type": "execute_result"
    },
    {
     "data": {
      "image/png": "[encoded data removed]",
      "text/plain": [
       "<Figure size 432x288 with 1 Axes>"
      ]
     },
     "metadata": {
      "needs_background": "light"
     },
     "output_type": "display_data"
    }
   ],
   "source": [
    "pylab.plot(nnn)"
   ]
  },
  {
   "cell_type": "code",
   "execution_count": 124,
   "metadata": {
    "ExecuteTime": {
     "end_time": "2021-02-11T16:38:05.616585Z",
     "start_time": "2021-02-11T16:38:05.611583Z"
    }
   },
   "outputs": [
    {
     "data": {
      "text/plain": [
       "torch.Size([10000, 1])"
      ]
     },
     "execution_count": 124,
     "metadata": {},
     "output_type": "execute_result"
    }
   ],
   "source": [
    "data.shape"
   ]
  }
 ],
 "metadata": {
  "hide_input": false,
  "kernelspec": {
   "display_name": "mil",
   "language": "python",
   "name": "mil"
  },
  "language_info": {
   "codemirror_mode": {
    "name": "ipython",
    "version": 3
   },
   "file_extension": ".py",
   "mimetype": "text/x-python",
   "name": "python",
   "nbconvert_exporter": "python",
   "pygments_lexer": "ipython3",
   "version": "3.6.12"
  },
  "toc": {
   "base_numbering": 1,
   "nav_menu": {},
   "number_sections": true,
   "sideBar": true,
   "skip_h1_title": false,
   "title_cell": "Table of Contents",
   "title_sidebar": "Contents",
   "toc_cell": true,
   "toc_position": {},
   "toc_section_display": true,
   "toc_window_display": true
  },
  "varInspector": {
   "cols": {
    "lenName": 16,
    "lenType": 16,
    "lenVar": 40
   },
   "kernels_config": {
    "python": {
     "delete_cmd_postfix": "",
     "delete_cmd_prefix": "del ",
     "library": "var_list.py",
     "varRefreshCmd": "print(var_dic_list())"
    },
    "r": {
     "delete_cmd_postfix": ") ",
     "delete_cmd_prefix": "rm(",
     "library": "var_list.r",
     "varRefreshCmd": "cat(var_dic_list()) "
    }
   },
   "types_to_exclude": [
    "module",
    "function",
    "builtin_function_or_method",
    "instance",
    "_Feature"
   ],
   "window_display": false
  }
 },
 "nbformat": 4,
 "nbformat_minor": 2
}
