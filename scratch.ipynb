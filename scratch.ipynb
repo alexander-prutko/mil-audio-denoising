{
 "cells": [
  {
   "cell_type": "markdown",
   "metadata": {
    "toc": true
   },
   "source": [
    "<h1>Table of Contents<span class=\"tocSkip\"></span></h1>\n",
    "<div class=\"toc\"><ul class=\"toc-item\"></ul></div>"
   ]
  },
  {
   "cell_type": "code",
   "execution_count": 98,
   "metadata": {
    "ExecuteTime": {
     "end_time": "2021-02-11T10:42:04.420718Z",
     "start_time": "2021-02-11T10:42:02.171332Z"
    }
   },
   "outputs": [
    {
     "name": "stdout",
     "output_type": "stream",
     "text": [
      "Populating the interactive namespace from numpy and matplotlib\n"
     ]
    }
   ],
   "source": [
    "import torch.nn.functional as F\n",
    "import util\n",
    "import layers\n",
    "import os\n",
    "import logging\n",
    "import numpy as np\n",
    "import pandas as pd\n",
    "import pickle\n",
    "import torch\n",
    "from torch.utils.data import Dataset, DataLoader\n",
    "import torch.nn as nn\n",
    "import torch.optim as optim\n",
    "from tqdm import tqdm as tqdm\n",
    "\n",
    "import torchaudio\n",
    "\n",
    "%pylab inline"
   ]
  },
  {
   "cell_type": "code",
   "execution_count": 75,
   "metadata": {
    "ExecuteTime": {
     "end_time": "2021-02-11T10:28:56.528592Z",
     "start_time": "2021-02-11T10:28:56.524294Z"
    }
   },
   "outputs": [],
   "source": [
    "import IPython.display as ipd\n",
    "# display(ipd.Audio(xnoise, rate=samplerate));"
   ]
  },
  {
   "cell_type": "code",
   "execution_count": 4,
   "metadata": {
    "ExecuteTime": {
     "end_time": "2021-02-11T07:52:52.322982Z",
     "start_time": "2021-02-11T07:52:49.910894Z"
    },
    "collapsed": true
   },
   "outputs": [
    {
     "name": "stdout",
     "output_type": "stream",
     "text": [
      "----------------------------------------------------------------\n",
      "        Layer (type)               Output Shape         Param #\n",
      "================================================================\n",
      "            Conv2d-1         [-1, 64, 224, 224]           1,792\n",
      "              ReLU-2         [-1, 64, 224, 224]               0\n",
      "            Conv2d-3         [-1, 64, 224, 224]          36,928\n",
      "              ReLU-4         [-1, 64, 224, 224]               0\n",
      "         MaxPool2d-5         [-1, 64, 112, 112]               0\n",
      "            Conv2d-6        [-1, 128, 112, 112]          73,856\n",
      "              ReLU-7        [-1, 128, 112, 112]               0\n",
      "            Conv2d-8        [-1, 128, 112, 112]         147,584\n",
      "              ReLU-9        [-1, 128, 112, 112]               0\n",
      "        MaxPool2d-10          [-1, 128, 56, 56]               0\n",
      "           Conv2d-11          [-1, 256, 56, 56]         295,168\n",
      "             ReLU-12          [-1, 256, 56, 56]               0\n",
      "           Conv2d-13          [-1, 256, 56, 56]         590,080\n",
      "             ReLU-14          [-1, 256, 56, 56]               0\n",
      "           Conv2d-15          [-1, 256, 56, 56]         590,080\n",
      "             ReLU-16          [-1, 256, 56, 56]               0\n",
      "        MaxPool2d-17          [-1, 256, 28, 28]               0\n",
      "           Conv2d-18          [-1, 512, 28, 28]       1,180,160\n",
      "             ReLU-19          [-1, 512, 28, 28]               0\n",
      "           Conv2d-20          [-1, 512, 28, 28]       2,359,808\n",
      "             ReLU-21          [-1, 512, 28, 28]               0\n",
      "           Conv2d-22          [-1, 512, 28, 28]       2,359,808\n",
      "             ReLU-23          [-1, 512, 28, 28]               0\n",
      "        MaxPool2d-24          [-1, 512, 14, 14]               0\n",
      "           Conv2d-25          [-1, 512, 14, 14]       2,359,808\n",
      "             ReLU-26          [-1, 512, 14, 14]               0\n",
      "           Conv2d-27          [-1, 512, 14, 14]       2,359,808\n",
      "             ReLU-28          [-1, 512, 14, 14]               0\n",
      "           Conv2d-29          [-1, 512, 14, 14]       2,359,808\n",
      "             ReLU-30          [-1, 512, 14, 14]               0\n",
      "        MaxPool2d-31            [-1, 512, 7, 7]               0\n",
      "AdaptiveAvgPool2d-32            [-1, 512, 7, 7]               0\n",
      "           Linear-33                 [-1, 4096]     102,764,544\n",
      "             ReLU-34                 [-1, 4096]               0\n",
      "          Dropout-35                 [-1, 4096]               0\n",
      "           Linear-36                 [-1, 4096]      16,781,312\n",
      "             ReLU-37                 [-1, 4096]               0\n",
      "          Dropout-38                 [-1, 4096]               0\n",
      "           Linear-39                 [-1, 1000]       4,097,000\n",
      "================================================================\n",
      "Total params: 138,357,544\n",
      "Trainable params: 138,357,544\n",
      "Non-trainable params: 0\n",
      "----------------------------------------------------------------\n",
      "Input size (MB): 0.57\n",
      "Forward/backward pass size (MB): 218.78\n",
      "Params size (MB): 527.79\n",
      "Estimated Total Size (MB): 747.15\n",
      "----------------------------------------------------------------\n"
     ]
    }
   ],
   "source": [
    "from torchvision import models\n",
    "from torchsummary import summary\n",
    "\n",
    "vgg = models.vgg16()\n",
    "summary(vgg, (3, 224, 224))"
   ]
  },
  {
   "cell_type": "code",
   "execution_count": 8,
   "metadata": {
    "ExecuteTime": {
     "end_time": "2021-02-11T08:08:33.431261Z",
     "start_time": "2021-02-11T08:08:33.424400Z"
    },
    "code_folding": [
     0
    ]
   },
   "outputs": [],
   "source": [
    "config = {\n",
    "    \"dataset\": {\n",
    "        \"extract_voice\": True,\n",
    "        \"in_memory_percentage\": 1,\n",
    "        \"noise_only_percent\": 0.1,\n",
    "        \"num_condition_classes\": 29,\n",
    "        \"path\": \"data/NSDTSEA/\",\n",
    "        \"regain\": 0.06,\n",
    "        \"sample_rate\": 16000,\n",
    "        \"type\": \"nsdtsea\"\n",
    "    },\n",
    "    \"model\": {\n",
    "        \"condition_encoding\": \"binary\",\n",
    "        \"dilations\": 9,\n",
    "        \"filters\": {\n",
    "            \"lengths\": {\n",
    "                \"res\": 3,\n",
    "                \"final\": [3, 3],\n",
    "                \"skip\": 1\n",
    "            },\n",
    "            \"depths\": {\n",
    "                \"res\": 128,\n",
    "                \"skip\": 128,\n",
    "                \"final\": [2048, 256]\n",
    "            }\n",
    "        },\n",
    "        \"num_stacks\": 3,\n",
    "        \"target_field_length\": 1601,\n",
    "        \"target_padding\": 1\n",
    "    },\n",
    "    \"optimizer\": {\n",
    "        \"decay\": 0.0,\n",
    "        \"epsilon\": 1e-08,\n",
    "        \"lr\": 0.001,\n",
    "        \"momentum\": 0.9,\n",
    "        \"type\": \"adam\"\n",
    "    },\n",
    "    \"training\": {\n",
    "        \"batch_size\": 10,\n",
    "        \"early_stopping_patience\": 16,\n",
    "        \"loss\": {\n",
    "            \"out_1\": {\n",
    "                \"l1\": 1,\n",
    "                \"l2\": 0,\n",
    "                \"weight\": 1\n",
    "            },\n",
    "            \"out_2\": {\n",
    "                \"l1\": 1,\n",
    "                \"l2\": 0,\n",
    "                \"weight\": 1\n",
    "            }\n",
    "        },\n",
    "        \"num_epochs\": 250,\n",
    "        \"num_test_samples\": 100,\n",
    "        \"num_train_samples\": 1000,\n",
    "        \"path\": \"data/NSDTSEA/\"\n",
    "    }\n",
    "}"
   ]
  },
  {
   "cell_type": "code",
   "execution_count": 61,
   "metadata": {
    "ExecuteTime": {
     "end_time": "2021-02-11T08:44:02.832865Z",
     "start_time": "2021-02-11T08:44:02.819724Z"
    },
    "code_folding": []
   },
   "outputs": [],
   "source": [
    "class dilated_residual_block(nn.Module):\n",
    "    \n",
    "    def __init__(self, dilation, input_length, padded_target_field_length, config):\n",
    "        super().__init__()\n",
    "        self.dilation =  dilation\n",
    "        self.input_length = input_length\n",
    "#         self.condition_input_length = condition_input_length\n",
    "#         self.samples_of_interest_indices = samples_of_interest_indices\n",
    "        self.padded_target_field_length = padded_target_field_length\n",
    "        self.config = config\n",
    "        self.conv1 = nn.Conv1d(self.config['model']['filters']['depths']['res'], 2*self.config['model']['filters']['depths']['res'],\n",
    "                               kernel_size = self.config['model']['filters']['lengths']['res'], stride=1, bias = False, dilation = self.dilation,\n",
    "                               padding=int(self.dilation))\n",
    "        self.conv2 = nn.Conv1d(self.config['model']['filters']['depths']['res'], \n",
    "                               self.config['model']['filters']['depths']['res'] + self.config['model']['filters']['depths']['skip'],\n",
    "                               1, stride=1, bias = False, padding=0)\n",
    "        \n",
    "    \n",
    "    def forward(self, data_x):\n",
    "\n",
    "        original_x = data_x\n",
    "\n",
    "        # Data sub-block\n",
    "        data_out = self.conv1(data_x)\n",
    "\n",
    "        data_out_1 = layers.slicing(data_out, slice(0, self.config['model']['filters']['depths']['res'],1), 1) \n",
    "\n",
    "        data_out_2 = layers.slicing(data_out, slice(self.config['model']['filters']['depths']['res'], \n",
    "                                                    2*self.config['model']['filters']['depths']['res'],1), 1)\n",
    "\n",
    "        data_out_1 = data_out_1\n",
    "        \n",
    "        data_out_2 = data_out_2\n",
    "\n",
    "        tanh_out = torch.tanh(data_out_1)\n",
    "        sigm_out = torch.sigmoid(data_out_2)\n",
    "\n",
    "        data_x = tanh_out*sigm_out\n",
    "\n",
    "        data_x = self.conv2(data_x)\n",
    "\n",
    "        res_x = layers.slicing(data_x, slice(0, self.config['model']['filters']['depths']['res'],1), 1)\n",
    "        \n",
    "        skip_x = layers.slicing(data_x, slice(self.config['model']['filters']['depths']['res'], \n",
    "                                self.config['model']['filters']['depths']['res']+self.config['model']['filters']['depths']['skip'],1), 1)\n",
    "\n",
    "        res_x = res_x + original_x\n",
    "\n",
    "        return res_x, skip_x"
   ]
  },
  {
   "cell_type": "code",
   "execution_count": 27,
   "metadata": {
    "ExecuteTime": {
     "end_time": "2021-02-11T08:15:13.096210Z",
     "start_time": "2021-02-11T08:15:13.092846Z"
    }
   },
   "outputs": [],
   "source": [
    "drb = dilated_residual_block(9, 100, 100, config)"
   ]
  },
  {
   "cell_type": "code",
   "execution_count": 31,
   "metadata": {
    "ExecuteTime": {
     "end_time": "2021-02-11T08:15:34.983936Z",
     "start_time": "2021-02-11T08:15:34.978929Z"
    }
   },
   "outputs": [
    {
     "name": "stdout",
     "output_type": "stream",
     "text": [
      "----------------------------------------------------------------\n",
      "        Layer (type)               Output Shape         Param #\n",
      "================================================================\n",
      "            Conv1d-1               [-1, 256, 3]          98,304\n",
      "            Conv1d-2               [-1, 256, 3]          32,768\n",
      "================================================================\n",
      "Total params: 131,072\n",
      "Trainable params: 131,072\n",
      "Non-trainable params: 0\n",
      "----------------------------------------------------------------\n",
      "Input size (MB): 0.00\n",
      "Forward/backward pass size (MB): 0.01\n",
      "Params size (MB): 0.50\n",
      "Estimated Total Size (MB): 0.51\n",
      "----------------------------------------------------------------\n"
     ]
    }
   ],
   "source": [
    "summary(drb, (128, 3))"
   ]
  },
  {
   "cell_type": "code",
   "execution_count": 32,
   "metadata": {
    "ExecuteTime": {
     "end_time": "2021-02-11T08:16:42.906275Z",
     "start_time": "2021-02-11T08:16:42.902798Z"
    }
   },
   "outputs": [
    {
     "data": {
      "text/plain": [
       "dilated_residual_block(\n",
       "  (conv1): Conv1d(128, 256, kernel_size=(3,), stride=(1,), padding=(9,), dilation=(9,), bias=False)\n",
       "  (conv2): Conv1d(128, 256, kernel_size=(1,), stride=(1,), bias=False)\n",
       ")"
      ]
     },
     "execution_count": 32,
     "metadata": {},
     "output_type": "execute_result"
    }
   ],
   "source": [
    "drb"
   ]
  },
  {
   "cell_type": "code",
   "execution_count": 119,
   "metadata": {
    "ExecuteTime": {
     "end_time": "2021-02-11T10:47:07.053056Z",
     "start_time": "2021-02-11T10:47:07.027987Z"
    }
   },
   "outputs": [],
   "source": [
    "class DenoisingWavenet(nn.Module):\n",
    "\n",
    "    def __init__(self, config, input_length=None, target_field_length=None):\n",
    "        super().__init__()\n",
    "\n",
    "        self.config = config\n",
    "        self.num_stacks = self.config['model']['num_stacks']\n",
    "        if type(self.config['model']['dilations']) is int:\n",
    "            self.dilations = [2 ** i for i in range(0, self.config['model']['dilations'] + 1)]\n",
    "        elif type(self.config['model']['dilations']) is list:\n",
    "            self.dilations = self.config['model']['dilations']\n",
    "\n",
    "        self.receptive_field_length = util.compute_receptive_field_length(config['model']['num_stacks'], self.dilations, config['model']['filters']['lengths']['res'], 1)\n",
    "\n",
    "        if input_length is not None:\n",
    "            self.input_length = int(input_length)\n",
    "            self.target_field_length = int(self.input_length - (self.receptive_field_length - 1))\n",
    "        if target_field_length is not None:\n",
    "            self.target_field_length = int(target_field_length)\n",
    "            self.input_length = int(self.receptive_field_length + (self.target_field_length - 1))\n",
    "        else:\n",
    "            self.target_field_length = int(config['model']['target_field_length'])\n",
    "            self.input_length = int(self.receptive_field_length + (self.target_field_length - 1))\n",
    "\n",
    "        self.target_padding = config['model']['target_padding']\n",
    "        self.padded_target_field_length = self.target_field_length + 2 * self.target_padding\n",
    "        self.half_target_field_length = int(self.target_field_length / 2)\n",
    "        self.half_receptive_field_length = int(self.receptive_field_length / 2)\n",
    "        self.num_residual_blocks = len(self.dilations) * self.num_stacks\n",
    "\n",
    "        self.config['model']['num_residual_blocks'] = self.num_residual_blocks\n",
    "        self.config['model']['receptive_field_length'] = self.receptive_field_length\n",
    "        self.config['model']['input_length'] = self.input_length\n",
    "        self.config['model']['target_field_length'] = self.target_field_length\n",
    "        \n",
    "        # Layers in the model\n",
    "        self.conv1 = nn.Conv1d(1, self.config['model']['filters']['depths']['res'], self.config['model']['filters']['lengths']['res'], stride=1, bias = False, padding=1)\n",
    "        \n",
    "        self.conv2 = nn.Conv1d(self.config['model']['filters']['depths']['res'], self.config['model']['filters']['depths']['final'][0], self.config['model']['filters']['lengths']['final'][0], stride=1, bias = False, padding=1)\n",
    "        \n",
    "        self.conv3 = nn.Conv1d(self.config['model']['filters']['depths']['final'][0], self.config['model']['filters']['depths']['final'][1], self.config['model']['filters']['lengths']['final'][1], stride=1, bias = False, padding=1)\n",
    "        \n",
    "        self.conv4 = nn.Conv1d(self.config['model']['filters']['depths']['final'][1], 1, 1, stride=1, bias = False, padding=0)\n",
    "        \n",
    "        self.dilated_layers = nn.ModuleList([dilated_residual_block(dilation, self.input_length, self.padded_target_field_length, self.config) for dilation in self.dilations])\n",
    "\n",
    "\n",
    "    def get_target_field_indices(self):\n",
    "\n",
    "        target_sample_index = self.get_target_sample_index()\n",
    "\n",
    "        return range(target_sample_index - self.half_target_field_length,\n",
    "                     target_sample_index + self.half_target_field_length + 1)\n",
    "\n",
    "    def get_padded_target_field_indices(self):\n",
    "\n",
    "        target_sample_index = self.get_target_sample_index()\n",
    "\n",
    "        return range(target_sample_index - self.half_target_field_length - self.target_padding,\n",
    "                     target_sample_index + self.half_target_field_length + self.target_padding + 1)\n",
    "\n",
    "    def get_target_sample_index(self):\n",
    "        return int(np.floor(self.input_length / 2.0))\n",
    "\n",
    "    def get_condition_input_length(self, representation):\n",
    "\n",
    "        if representation == 'binary':\n",
    "            return int(np.ceil(np.log2(self.num_condition_classes)))\n",
    "        else:\n",
    "            return self.num_condition_classes\n",
    "\n",
    "    def forward(self, x):\n",
    "\n",
    "        data_input = x#['data_input']\n",
    "\n",
    "        data_expanded = layers.expand_dims(data_input, 1)\n",
    "        \n",
    "        data_out = self.conv1(data_expanded)\n",
    "\n",
    "        skip_connections = []\n",
    "        for _ in range(self.num_stacks):\n",
    "            for layer in self.dilated_layers:\n",
    "                data_out, skip_out = layer(data_out)\n",
    "                if skip_out is not None:\n",
    "                    skip_connections.append(skip_out)\n",
    "\n",
    "        data_out = torch.stack( skip_connections, dim = 0).sum(dim = 0)\n",
    "        data_out = F.relu(data_out)\n",
    "\n",
    "        data_out = self.conv2(data_out)\n",
    "\n",
    "        data_out = F.relu(data_out)\n",
    "        \n",
    "        data_out = self.conv3(data_out)\n",
    "\n",
    "        data_out = self.conv4(data_out)\n",
    "\n",
    "        data_out_speech = data_out\n",
    "        data_out_noise = data_input - data_out_speech\n",
    "\n",
    "        data_out_speech = data_out_speech.squeeze_(1)\n",
    "\n",
    "        data_out_noise = data_out_noise.squeeze_(1)\n",
    "\n",
    "        return data_out_speech#, data_out_noise"
   ]
  },
  {
   "cell_type": "code",
   "execution_count": 63,
   "metadata": {
    "ExecuteTime": {
     "end_time": "2021-02-11T08:44:07.587453Z",
     "start_time": "2021-02-11T08:44:07.559567Z"
    }
   },
   "outputs": [],
   "source": [
    "dw = DenoisingWavenet(config)"
   ]
  },
  {
   "cell_type": "code",
   "execution_count": 64,
   "metadata": {
    "ExecuteTime": {
     "end_time": "2021-02-11T08:44:08.047337Z",
     "start_time": "2021-02-11T08:44:08.043586Z"
    }
   },
   "outputs": [
    {
     "data": {
      "text/plain": [
       "DenoisingWavenet(\n",
       "  (conv1): Conv1d(1, 128, kernel_size=(3,), stride=(1,), padding=(1,), bias=False)\n",
       "  (conv2): Conv1d(128, 2048, kernel_size=(3,), stride=(1,), padding=(1,), bias=False)\n",
       "  (conv3): Conv1d(2048, 256, kernel_size=(3,), stride=(1,), padding=(1,), bias=False)\n",
       "  (conv4): Conv1d(256, 1, kernel_size=(1,), stride=(1,), bias=False)\n",
       "  (dilated_layers): ModuleList(\n",
       "    (0): dilated_residual_block(\n",
       "      (conv1): Conv1d(128, 256, kernel_size=(3,), stride=(1,), padding=(1,), bias=False)\n",
       "      (conv2): Conv1d(128, 256, kernel_size=(1,), stride=(1,), bias=False)\n",
       "    )\n",
       "    (1): dilated_residual_block(\n",
       "      (conv1): Conv1d(128, 256, kernel_size=(3,), stride=(1,), padding=(2,), dilation=(2,), bias=False)\n",
       "      (conv2): Conv1d(128, 256, kernel_size=(1,), stride=(1,), bias=False)\n",
       "    )\n",
       "    (2): dilated_residual_block(\n",
       "      (conv1): Conv1d(128, 256, kernel_size=(3,), stride=(1,), padding=(4,), dilation=(4,), bias=False)\n",
       "      (conv2): Conv1d(128, 256, kernel_size=(1,), stride=(1,), bias=False)\n",
       "    )\n",
       "    (3): dilated_residual_block(\n",
       "      (conv1): Conv1d(128, 256, kernel_size=(3,), stride=(1,), padding=(8,), dilation=(8,), bias=False)\n",
       "      (conv2): Conv1d(128, 256, kernel_size=(1,), stride=(1,), bias=False)\n",
       "    )\n",
       "    (4): dilated_residual_block(\n",
       "      (conv1): Conv1d(128, 256, kernel_size=(3,), stride=(1,), padding=(16,), dilation=(16,), bias=False)\n",
       "      (conv2): Conv1d(128, 256, kernel_size=(1,), stride=(1,), bias=False)\n",
       "    )\n",
       "    (5): dilated_residual_block(\n",
       "      (conv1): Conv1d(128, 256, kernel_size=(3,), stride=(1,), padding=(32,), dilation=(32,), bias=False)\n",
       "      (conv2): Conv1d(128, 256, kernel_size=(1,), stride=(1,), bias=False)\n",
       "    )\n",
       "    (6): dilated_residual_block(\n",
       "      (conv1): Conv1d(128, 256, kernel_size=(3,), stride=(1,), padding=(64,), dilation=(64,), bias=False)\n",
       "      (conv2): Conv1d(128, 256, kernel_size=(1,), stride=(1,), bias=False)\n",
       "    )\n",
       "    (7): dilated_residual_block(\n",
       "      (conv1): Conv1d(128, 256, kernel_size=(3,), stride=(1,), padding=(128,), dilation=(128,), bias=False)\n",
       "      (conv2): Conv1d(128, 256, kernel_size=(1,), stride=(1,), bias=False)\n",
       "    )\n",
       "    (8): dilated_residual_block(\n",
       "      (conv1): Conv1d(128, 256, kernel_size=(3,), stride=(1,), padding=(256,), dilation=(256,), bias=False)\n",
       "      (conv2): Conv1d(128, 256, kernel_size=(1,), stride=(1,), bias=False)\n",
       "    )\n",
       "    (9): dilated_residual_block(\n",
       "      (conv1): Conv1d(128, 256, kernel_size=(3,), stride=(1,), padding=(512,), dilation=(512,), bias=False)\n",
       "      (conv2): Conv1d(128, 256, kernel_size=(1,), stride=(1,), bias=False)\n",
       "    )\n",
       "  )\n",
       ")"
      ]
     },
     "execution_count": 64,
     "metadata": {},
     "output_type": "execute_result"
    }
   ],
   "source": [
    "dw"
   ]
  },
  {
   "cell_type": "code",
   "execution_count": 70,
   "metadata": {
    "ExecuteTime": {
     "end_time": "2021-02-11T10:02:26.401054Z",
     "start_time": "2021-02-11T10:02:26.341413Z"
    },
    "scrolled": false
   },
   "outputs": [
    {
     "name": "stdout",
     "output_type": "stream",
     "text": [
      "----------------------------------------------------------------\n",
      "        Layer (type)               Output Shape         Param #\n",
      "================================================================\n",
      "            Conv1d-1              [-1, 128, 10]             384\n",
      "            Conv1d-2              [-1, 256, 10]          98,304\n",
      "            Conv1d-3              [-1, 256, 10]          32,768\n",
      "dilated_residual_block-4  [[-1, 128, 10], [-1, 128, 10]]               0\n",
      "            Conv1d-5              [-1, 256, 10]          98,304\n",
      "            Conv1d-6              [-1, 256, 10]          32,768\n",
      "dilated_residual_block-7  [[-1, 128, 10], [-1, 128, 10]]               0\n",
      "            Conv1d-8              [-1, 256, 10]          98,304\n",
      "            Conv1d-9              [-1, 256, 10]          32,768\n",
      "dilated_residual_block-10  [[-1, 128, 10], [-1, 128, 10]]               0\n",
      "           Conv1d-11              [-1, 256, 10]          98,304\n",
      "           Conv1d-12              [-1, 256, 10]          32,768\n",
      "dilated_residual_block-13  [[-1, 128, 10], [-1, 128, 10]]               0\n",
      "           Conv1d-14              [-1, 256, 10]          98,304\n",
      "           Conv1d-15              [-1, 256, 10]          32,768\n",
      "dilated_residual_block-16  [[-1, 128, 10], [-1, 128, 10]]               0\n",
      "           Conv1d-17              [-1, 256, 10]          98,304\n",
      "           Conv1d-18              [-1, 256, 10]          32,768\n",
      "dilated_residual_block-19  [[-1, 128, 10], [-1, 128, 10]]               0\n",
      "           Conv1d-20              [-1, 256, 10]          98,304\n",
      "           Conv1d-21              [-1, 256, 10]          32,768\n",
      "dilated_residual_block-22  [[-1, 128, 10], [-1, 128, 10]]               0\n",
      "           Conv1d-23              [-1, 256, 10]          98,304\n",
      "           Conv1d-24              [-1, 256, 10]          32,768\n",
      "dilated_residual_block-25  [[-1, 128, 10], [-1, 128, 10]]               0\n",
      "           Conv1d-26              [-1, 256, 10]          98,304\n",
      "           Conv1d-27              [-1, 256, 10]          32,768\n",
      "dilated_residual_block-28  [[-1, 128, 10], [-1, 128, 10]]               0\n",
      "           Conv1d-29              [-1, 256, 10]          98,304\n",
      "           Conv1d-30              [-1, 256, 10]          32,768\n",
      "dilated_residual_block-31  [[-1, 128, 10], [-1, 128, 10]]               0\n",
      "           Conv1d-32              [-1, 256, 10]          98,304\n",
      "           Conv1d-33              [-1, 256, 10]          32,768\n",
      "dilated_residual_block-34  [[-1, 128, 10], [-1, 128, 10]]               0\n",
      "           Conv1d-35              [-1, 256, 10]          98,304\n",
      "           Conv1d-36              [-1, 256, 10]          32,768\n",
      "dilated_residual_block-37  [[-1, 128, 10], [-1, 128, 10]]               0\n",
      "           Conv1d-38              [-1, 256, 10]          98,304\n",
      "           Conv1d-39              [-1, 256, 10]          32,768\n",
      "dilated_residual_block-40  [[-1, 128, 10], [-1, 128, 10]]               0\n",
      "           Conv1d-41              [-1, 256, 10]          98,304\n",
      "           Conv1d-42              [-1, 256, 10]          32,768\n",
      "dilated_residual_block-43  [[-1, 128, 10], [-1, 128, 10]]               0\n",
      "           Conv1d-44              [-1, 256, 10]          98,304\n",
      "           Conv1d-45              [-1, 256, 10]          32,768\n",
      "dilated_residual_block-46  [[-1, 128, 10], [-1, 128, 10]]               0\n",
      "           Conv1d-47              [-1, 256, 10]          98,304\n",
      "           Conv1d-48              [-1, 256, 10]          32,768\n",
      "dilated_residual_block-49  [[-1, 128, 10], [-1, 128, 10]]               0\n",
      "           Conv1d-50              [-1, 256, 10]          98,304\n",
      "           Conv1d-51              [-1, 256, 10]          32,768\n",
      "dilated_residual_block-52  [[-1, 128, 10], [-1, 128, 10]]               0\n",
      "           Conv1d-53              [-1, 256, 10]          98,304\n",
      "           Conv1d-54              [-1, 256, 10]          32,768\n",
      "dilated_residual_block-55  [[-1, 128, 10], [-1, 128, 10]]               0\n",
      "           Conv1d-56              [-1, 256, 10]          98,304\n",
      "           Conv1d-57              [-1, 256, 10]          32,768\n",
      "dilated_residual_block-58  [[-1, 128, 10], [-1, 128, 10]]               0\n",
      "           Conv1d-59              [-1, 256, 10]          98,304\n",
      "           Conv1d-60              [-1, 256, 10]          32,768\n",
      "dilated_residual_block-61  [[-1, 128, 10], [-1, 128, 10]]               0\n",
      "           Conv1d-62              [-1, 256, 10]          98,304\n",
      "           Conv1d-63              [-1, 256, 10]          32,768\n",
      "dilated_residual_block-64  [[-1, 128, 10], [-1, 128, 10]]               0\n",
      "           Conv1d-65              [-1, 256, 10]          98,304\n",
      "           Conv1d-66              [-1, 256, 10]          32,768\n",
      "dilated_residual_block-67  [[-1, 128, 10], [-1, 128, 10]]               0\n",
      "           Conv1d-68              [-1, 256, 10]          98,304\n",
      "           Conv1d-69              [-1, 256, 10]          32,768\n",
      "dilated_residual_block-70  [[-1, 128, 10], [-1, 128, 10]]               0\n",
      "           Conv1d-71              [-1, 256, 10]          98,304\n",
      "           Conv1d-72              [-1, 256, 10]          32,768\n",
      "dilated_residual_block-73  [[-1, 128, 10], [-1, 128, 10]]               0\n",
      "           Conv1d-74              [-1, 256, 10]          98,304\n",
      "           Conv1d-75              [-1, 256, 10]          32,768\n",
      "dilated_residual_block-76  [[-1, 128, 10], [-1, 128, 10]]               0\n",
      "           Conv1d-77              [-1, 256, 10]          98,304\n",
      "           Conv1d-78              [-1, 256, 10]          32,768\n",
      "dilated_residual_block-79  [[-1, 128, 10], [-1, 128, 10]]               0\n",
      "           Conv1d-80              [-1, 256, 10]          98,304\n",
      "           Conv1d-81              [-1, 256, 10]          32,768\n",
      "dilated_residual_block-82  [[-1, 128, 10], [-1, 128, 10]]               0\n",
      "           Conv1d-83              [-1, 256, 10]          98,304\n",
      "           Conv1d-84              [-1, 256, 10]          32,768\n",
      "dilated_residual_block-85  [[-1, 128, 10], [-1, 128, 10]]               0\n",
      "           Conv1d-86              [-1, 256, 10]          98,304\n",
      "           Conv1d-87              [-1, 256, 10]          32,768\n",
      "dilated_residual_block-88  [[-1, 128, 10], [-1, 128, 10]]               0\n",
      "           Conv1d-89              [-1, 256, 10]          98,304\n",
      "           Conv1d-90              [-1, 256, 10]          32,768\n",
      "dilated_residual_block-91  [[-1, 128, 10], [-1, 128, 10]]               0\n",
      "           Conv1d-92             [-1, 2048, 10]         786,432\n",
      "           Conv1d-93              [-1, 256, 10]       1,572,864\n",
      "           Conv1d-94                [-1, 1, 10]             256\n",
      "================================================================\n",
      "Total params: 6,292,096\n",
      "Trainable params: 6,292,096\n",
      "Non-trainable params: 0\n",
      "----------------------------------------------------------------\n",
      "Input size (MB): 0.00\n",
      "Forward/backward pass size (MB): 373.64\n",
      "Params size (MB): 24.00\n",
      "Estimated Total Size (MB): 397.64\n",
      "----------------------------------------------------------------\n"
     ]
    }
   ],
   "source": [
    "summary(dw, (10,))"
   ]
  },
  {
   "cell_type": "code",
   "execution_count": 162,
   "metadata": {
    "ExecuteTime": {
     "end_time": "2021-02-11T10:55:30.319877Z",
     "start_time": "2021-02-11T10:55:30.311572Z"
    }
   },
   "outputs": [
    {
     "data": {
      "text/plain": [
       "torch.Size([10000, 1])"
      ]
     },
     "execution_count": 162,
     "metadata": {},
     "output_type": "execute_result"
    }
   ],
   "source": [
    "waveform, sample_rate = torchaudio.load(\"wav.wav\")\n",
    "waveform = waveform[:1, :]\n",
    "waveform = waveform.narrow(1, 0, 10000).T#.squeeze()\n",
    "waveform.shape"
   ]
  },
  {
   "cell_type": "code",
   "execution_count": 163,
   "metadata": {
    "ExecuteTime": {
     "end_time": "2021-02-11T10:55:30.867594Z",
     "start_time": "2021-02-11T10:55:30.860813Z"
    }
   },
   "outputs": [
    {
     "data": {
      "text/html": [
       "\n",
       "                <audio  controls=\"controls\" >\n",
       "                    <source src=\"data:audio/wav;base64,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\" type=\"audio/wav\" />\n",
       "                    Your browser does not support the audio element.\n",
       "                </audio>\n",
       "              "
      ],
      "text/plain": [
       "<IPython.lib.display.Audio object>"
      ]
     },
     "metadata": {},
     "output_type": "display_data"
    }
   ],
   "source": [
    "display(ipd.Audio(waveform.T, rate=sample_rate));"
   ]
  },
  {
   "cell_type": "code",
   "execution_count": 172,
   "metadata": {
    "ExecuteTime": {
     "end_time": "2021-02-11T10:57:01.487692Z",
     "start_time": "2021-02-11T10:57:01.107156Z"
    }
   },
   "outputs": [
    {
     "data": {
      "text/plain": [
       "[<matplotlib.lines.Line2D at 0x7fddd3656210>]"
      ]
     },
     "execution_count": 172,
     "metadata": {},
     "output_type": "execute_result"
    },
    {
     "data": {
      "image/png": "[encoded data removed]",
      "text/plain": [
       "<Figure size 1080x720 with 1 Axes>"
      ]
     },
     "metadata": {
      "needs_background": "light"
     },
     "output_type": "display_data"
    }
   ],
   "source": [
    "pylab.figure(figsize=(15, 10))\n",
    "# pylab.plot(waveform.squeeze())\n",
    "pylab.plot(y.detach().numpy().squeeze())\n",
    "pylab.plot(waveform.squeeze())"
   ]
  },
  {
   "cell_type": "code",
   "execution_count": 133,
   "metadata": {
    "ExecuteTime": {
     "end_time": "2021-02-11T10:48:49.525828Z",
     "start_time": "2021-02-11T10:48:49.495884Z"
    }
   },
   "outputs": [],
   "source": [
    "model = DenoisingWavenet(config)\n",
    "optimizer = optim.Adam(model.parameters())\n",
    "loss_fn = nn.L1Loss()"
   ]
  },
  {
   "cell_type": "code",
   "execution_count": 141,
   "metadata": {
    "ExecuteTime": {
     "end_time": "2021-02-11T10:53:02.707342Z",
     "start_time": "2021-02-11T10:52:36.777941Z"
    }
   },
   "outputs": [
    {
     "name": "stderr",
     "output_type": "stream",
     "text": [
      "\n",
      "\n",
      "\n",
      "\n",
      "  0%|          | 0/4 [00:00<?, ?it/s]\u001b[A\u001b[A\u001b[A\u001b[A"
     ]
    },
    {
     "name": "stdout",
     "output_type": "stream",
     "text": [
      "1\r"
     ]
    },
    {
     "name": "stderr",
     "output_type": "stream",
     "text": [
      "\n",
      "\n",
      "\n",
      "\n",
      " 25%|██▌       | 1/4 [00:06<00:19,  6.50s/it]\u001b[A\u001b[A\u001b[A\u001b[A"
     ]
    },
    {
     "name": "stdout",
     "output_type": "stream",
     "text": [
      "Epoch - 1 Train-Loss : 0.001806743210181594\n",
      "1\r"
     ]
    },
    {
     "name": "stderr",
     "output_type": "stream",
     "text": [
      "\n",
      "\n",
      "\n",
      "\n",
      " 50%|█████     | 2/4 [00:12<00:12,  6.41s/it]\u001b[A\u001b[A\u001b[A\u001b[A"
     ]
    },
    {
     "name": "stdout",
     "output_type": "stream",
     "text": [
      "Epoch - 2 Train-Loss : 0.0007771392120048404\n",
      "1\r"
     ]
    },
    {
     "name": "stderr",
     "output_type": "stream",
     "text": [
      "\n",
      "\n",
      "\n",
      "\n",
      " 75%|███████▌  | 3/4 [00:19<00:06,  6.46s/it]\u001b[A\u001b[A\u001b[A\u001b[A"
     ]
    },
    {
     "name": "stdout",
     "output_type": "stream",
     "text": [
      "Epoch - 3 Train-Loss : 0.0010177268413826823\n",
      "1\r"
     ]
    },
    {
     "name": "stderr",
     "output_type": "stream",
     "text": [
      "\n",
      "\n",
      "\n",
      "\n",
      "100%|██████████| 4/4 [00:25<00:00,  6.48s/it]\u001b[A\u001b[A\u001b[A\u001b[A"
     ]
    },
    {
     "name": "stdout",
     "output_type": "stream",
     "text": [
      "Epoch - 4 Train-Loss : 0.0008266077493317425\n"
     ]
    },
    {
     "name": "stderr",
     "output_type": "stream",
     "text": [
      "\n"
     ]
    }
   ],
   "source": [
    "waveform, sample_rate = torchaudio.load(\"wav.wav\")\n",
    "waveform = waveform[:1, :]\n",
    "waveform = waveform.narrow(1, 0, 1000).T\n",
    "\n",
    "train_losses = []\n",
    "\n",
    "for epoch in tqdm(range(1, 5)):\n",
    "    counter = 0\n",
    "    model.train()\n",
    "    batch_losses=[]\n",
    "    batch_metric=[]\n",
    "    data = waveform\n",
    "    while True:\n",
    "        print(counter, end='\\r')\n",
    "        x, y = torch.clone(data), torch.clone(data)\n",
    "        optimizer.zero_grad()\n",
    "#         x = dict(map(lambda i: (i[0], i[1].to(self.device, dtype=torch.float32)), x.items()))\n",
    "#         y = dict(map(lambda i: (i[0], i[1].to(self.device, dtype=torch.float32)), y.items()))\n",
    "        y_hat = model(x)\n",
    "        loss = loss_fn(y_hat, y)\n",
    "        loss.backward()\n",
    "        batch_losses.append(loss)\n",
    "        optimizer.step()\n",
    "        if counter >= 1:\n",
    "            break\n",
    "        counter += 1\n",
    "    train_losses.append(torch.stack(batch_losses, dim = 0).mean(dim = 0).detach().cpu().numpy())\n",
    "    print(f'Epoch - {epoch} Train-Loss : {train_losses[-1]}')\n",
    "    counter = 0"
   ]
  },
  {
   "cell_type": "code",
   "execution_count": 164,
   "metadata": {
    "ExecuteTime": {
     "end_time": "2021-02-11T10:55:44.992006Z",
     "start_time": "2021-02-11T10:55:38.249484Z"
    }
   },
   "outputs": [],
   "source": [
    "y = model(waveform).squeeze()"
   ]
  },
  {
   "cell_type": "code",
   "execution_count": 165,
   "metadata": {
    "ExecuteTime": {
     "end_time": "2021-02-11T10:55:46.445736Z",
     "start_time": "2021-02-11T10:55:46.438991Z"
    }
   },
   "outputs": [
    {
     "data": {
      "text/html": [
       "\n",
       "                <audio  controls=\"controls\" >\n",
       "                    <source src=\"data:audio/wav;base64,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\" type=\"audio/wav\" />\n",
       "                    Your browser does not support the audio element.\n",
       "                </audio>\n",
       "              "
      ],
      "text/plain": [
       "<IPython.lib.display.Audio object>"
      ]
     },
     "metadata": {},
     "output_type": "display_data"
    }
   ],
   "source": [
    "display(ipd.Audio(y.detach().numpy(), rate=sample_rate));"
   ]
  },
  {
   "cell_type": "code",
   "execution_count": 130,
   "metadata": {
    "ExecuteTime": {
     "end_time": "2021-02-11T10:48:25.749951Z",
     "start_time": "2021-02-11T10:48:25.746713Z"
    }
   },
   "outputs": [
    {
     "data": {
      "text/plain": [
       "torch.Size([1000, 1, 1, 1])"
      ]
     },
     "execution_count": 130,
     "metadata": {},
     "output_type": "execute_result"
    }
   ],
   "source": [
    "x.shape"
   ]
  },
  {
   "cell_type": "code",
   "execution_count": 131,
   "metadata": {
    "ExecuteTime": {
     "end_time": "2021-02-11T10:48:36.650810Z",
     "start_time": "2021-02-11T10:48:36.647233Z"
    }
   },
   "outputs": [
    {
     "data": {
      "text/plain": [
       "torch.Size([1000, 1, 1, 1])"
      ]
     },
     "execution_count": 131,
     "metadata": {},
     "output_type": "execute_result"
    }
   ],
   "source": [
    "data.shape"
   ]
  }
 ],
 "metadata": {
  "hide_input": false,
  "kernelspec": {
   "display_name": "Python 3",
   "language": "python",
   "name": "python3"
  },
  "language_info": {
   "codemirror_mode": {
    "name": "ipython",
    "version": 3
   },
   "file_extension": ".py",
   "mimetype": "text/x-python",
   "name": "python",
   "nbconvert_exporter": "python",
   "pygments_lexer": "ipython3",
   "version": "3.7.4"
  },
  "toc": {
   "base_numbering": 1,
   "nav_menu": {},
   "number_sections": true,
   "sideBar": true,
   "skip_h1_title": false,
   "title_cell": "Table of Contents",
   "title_sidebar": "Contents",
   "toc_cell": true,
   "toc_position": {},
   "toc_section_display": true,
   "toc_window_display": true
  },
  "varInspector": {
   "cols": {
    "lenName": 16,
    "lenType": 16,
    "lenVar": 40
   },
   "kernels_config": {
    "python": {
     "delete_cmd_postfix": "",
     "delete_cmd_prefix": "del ",
     "library": "var_list.py",
     "varRefreshCmd": "print(var_dic_list())"
    },
    "r": {
     "delete_cmd_postfix": ") ",
     "delete_cmd_prefix": "rm(",
     "library": "var_list.r",
     "varRefreshCmd": "cat(var_dic_list()) "
    }
   },
   "types_to_exclude": [
    "module",
    "function",
    "builtin_function_or_method",
    "instance",
    "_Feature"
   ],
   "window_display": false
  }
 },
 "nbformat": 4,
 "nbformat_minor": 2
}
